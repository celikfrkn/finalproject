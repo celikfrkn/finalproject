{
 "cells": [
  {
   "cell_type": "markdown",
   "metadata": {},
   "source": [
    "Import necessary libraries"
   ]
  },
  {
   "cell_type": "code",
   "execution_count": 1,
   "metadata": {},
   "outputs": [],
   "source": [
    "\n",
    "import pandas as pd\n",
    "import numpy as np\n",
    "import matplotlib.pyplot as plt\n",
    "import seaborn as sns\n",
    "import plotly.express as px\n"
   ]
  },
  {
   "cell_type": "markdown",
   "metadata": {},
   "source": [
    "Read the Excel file into a DataFrame"
   ]
  },
  {
   "cell_type": "code",
   "execution_count": 2,
   "metadata": {},
   "outputs": [],
   "source": [
    "\n",
    "df = pd.read_excel(\"~/Desktop/Flight(1).xlsx\")\n"
   ]
  },
  {
   "cell_type": "markdown",
   "metadata": {},
   "source": [
    "Check for and remove duplicate rows"
   ]
  },
  {
   "cell_type": "code",
   "execution_count": 3,
   "metadata": {},
   "outputs": [
    {
     "data": {
      "text/plain": [
       "0"
      ]
     },
     "execution_count": 3,
     "metadata": {},
     "output_type": "execute_result"
    }
   ],
   "source": [
    "\n",
    "df.duplicated().sum()  # Checked duplicates, we have one duplicated observation.\n",
    "df = df.drop_duplicates()  # We removed the duplicated row.\n",
    "df.duplicated().sum()\n"
   ]
  },
  {
   "cell_type": "markdown",
   "metadata": {},
   "source": [
    "Remove rows with missing values"
   ]
  },
  {
   "cell_type": "code",
   "execution_count": 4,
   "metadata": {},
   "outputs": [],
   "source": [
    "\n",
    "df = df.dropna()\n"
   ]
  },
  {
   "cell_type": "markdown",
   "metadata": {},
   "source": [
    "Clean column names by removing special characters and converting to lowercase"
   ]
  },
  {
   "cell_type": "code",
   "execution_count": 5,
   "metadata": {},
   "outputs": [],
   "source": [
    "\n",
    "df.columns = df.columns.str.replace('\"', '')\n",
    "df.columns = df.columns.str.strip() \n",
    "df.columns = df.columns.str.replace('##', '')\n",
    "df.columns = df.columns.str.lower()\n"
   ]
  },
  {
   "cell_type": "markdown",
   "metadata": {},
   "source": [
    "Cleaning String Columns:"
   ]
  },
  {
   "cell_type": "code",
   "execution_count": 6,
   "metadata": {},
   "outputs": [],
   "source": [
    "\n",
    "# Strip double quotes from the 'airline' column\n",
    "df['airline'] = df['airline'].str.strip('\"')\n",
    "\n",
    "# Clean and format string columns\n",
    "df['seat_place'] = df['seat_place'].str.title()\n",
    "df['seat_place'] = df['seat_place'].str.replace('_', '')\n",
    "df['day_of_week'] = df['day_of_week'].str.title()\n",
    "df['cabin_type'] = df['cabin_type'].str.title()\n",
    "df['cabin_type'] = df['cabin_type'].str.replace('_','#')\n",
    "df['cabin_type'] = df['cabin_type'].str.strip('\"')\n"
   ]
  },
  {
   "cell_type": "markdown",
   "metadata": {},
   "source": [
    "Cleaning Numeric Columns:"
   ]
  },
  {
   "cell_type": "code",
   "execution_count": 7,
   "metadata": {},
   "outputs": [],
   "source": [
    "\n",
    "# Convert 'duration_hours' column to numeric, handle errors, and fill missing values\n",
    "df['duration_hours'] = pd.to_numeric(df['duration_hours'], errors='coerce')\n",
    "invalid_rows = df[df['duration_hours'].isnull()]\n",
    "mean_duration = df['duration_hours'].mean()\n",
    "df['duration_hours'].fillna(mean_duration, inplace=True)\n",
    "\n",
    "# Ensure certain numeric columns are non-negative\n",
    "df['distance_km'] = df['distance_km'].abs()\n",
    "df['price'] = df['price'].abs()\n",
    "df['the number of passengers'] = df['the number of passengers'].abs()\n",
    "df['baggage_fee'] = df['baggage_fee'].abs()\n",
    "\n",
    "# Fill missing values with means or modes\n",
    "mean_distance_km = df['distance_km'].mean()\n",
    "df['distance_km'].fillna(mean_distance_km, inplace=True)\n",
    "mode_duration_hours = df['duration_hours'].mode()[0]\n",
    "df['duration_hours'].fillna(mode_duration_hours, inplace=True)\n",
    "mean_price = df['price'].mean()\n",
    "df['price'].fillna(mean_price, inplace=True)\n",
    "mean_the_number_of_passengers = df['the number of passengers'].mean()\n",
    "df['price'].fillna(mean_the_number_of_passengers, inplace=True)\n",
    "mode_cabin_type = df['cabin_type'].mode()[0]\n",
    "df['cabin_type'].fillna(mode_cabin_type, inplace=True)\n"
   ]
  },
  {
   "cell_type": "markdown",
   "metadata": {},
   "source": [
    "Replacing Specific Values:"
   ]
  },
  {
   "cell_type": "code",
   "execution_count": 8,
   "metadata": {},
   "outputs": [],
   "source": [
    "\n",
    "# Replace specific values in the DataFrame\n",
    "df.replace('Heathrow', 'LHR', inplace=True)\n",
    "df.replace(' Heathrow', 'LHR', inplace=True)\n",
    "df.replace('heathrow', 'LHR', inplace=True)\n",
    "df['seat_place'].replace('FirstClass', 'First Class', inplace=True)\n",
    "df['destination airport'].replace('destination airport\t', 'destination_airport', inplace=True)\n",
    "df['the number of passengers'].replace('the number of passengers', 'the_number_of_passengers', inplace=True)\n",
    "df['cabin_type'] = df['cabin_type'].replace('NA', '').str.strip()\n",
    "df['cabin_type'].replace('S', 'Standard', inplace=True)\n",
    "df['cabin_type'].replace('E', 'Economy', inplace=True)\n",
    "df['cabin_type'].replace('L', 'Luxury', inplace=True)\n"
   ]
  },
  {
   "cell_type": "markdown",
   "metadata": {},
   "source": [
    "Data Type Transformation:\n",
    "Date Column Transformation:"
   ]
  },
  {
   "cell_type": "code",
   "execution_count": 9,
   "metadata": {},
   "outputs": [],
   "source": [
    "\n",
    "# Converting 'DATE' column to datetime type\n",
    "df['date'] = pd.to_datetime(df['date'], format='%d.%m.%Y %H:%M:%S')\n",
    "\n",
    "# Getting only date part from 'DATE' column\n",
    "df['date'] = df['date'].dt.date\n"
   ]
  },
  {
   "cell_type": "markdown",
   "metadata": {},
   "source": [
    "Column Renaming"
   ]
  },
  {
   "cell_type": "code",
   "execution_count": 10,
   "metadata": {},
   "outputs": [],
   "source": [
    "\n",
    "# Rename columns for clarity\n",
    "\n",
    "df.rename(columns = {'flight_id':'FLIGHT ID','date':'DATE', 'airline':'AIRLINE','source_airport':'SOURCE AIRPORT',\n",
    "                     'destination airport':'DESTINATION AIRPORT','duration_hours':'DURATION HOURS',\n",
    "                     'seat_place':'SEAT PLACE','price':'PRICE','day_of_week':'DAY OF WEEK',\n",
    "                     'distance_km':'DISTANCE KM', 'the number of passengers':'THE NUMBER OF PASSENGERS',\n",
    "                     'delay_minutes':'DELAY MINUTES', 'baggage_fee':'BAGGAGE FEE', 'cabin_type':'CABIN TYPE' },\n",
    "          inplace = True)\n"
   ]
  },
  {
   "cell_type": "markdown",
   "metadata": {},
   "source": [
    "Saving to Excel:"
   ]
  },
  {
   "cell_type": "code",
   "execution_count": 11,
   "metadata": {},
   "outputs": [
    {
     "data": {
      "text/html": [
       "<div>\n",
       "<style scoped>\n",
       "    .dataframe tbody tr th:only-of-type {\n",
       "        vertical-align: middle;\n",
       "    }\n",
       "\n",
       "    .dataframe tbody tr th {\n",
       "        vertical-align: top;\n",
       "    }\n",
       "\n",
       "    .dataframe thead th {\n",
       "        text-align: right;\n",
       "    }\n",
       "</style>\n",
       "<table border=\"1\" class=\"dataframe\">\n",
       "  <thead>\n",
       "    <tr style=\"text-align: right;\">\n",
       "      <th></th>\n",
       "      <th>FLIGHT ID</th>\n",
       "      <th>DATE</th>\n",
       "      <th>AIRLINE</th>\n",
       "      <th>SOURCE AIRPORT</th>\n",
       "      <th>DESTINATION AIRPORT</th>\n",
       "      <th>DURATION HOURS</th>\n",
       "      <th>SEAT PLACE</th>\n",
       "      <th>PRICE</th>\n",
       "      <th>DAY OF WEEK</th>\n",
       "      <th>DISTANCE KM</th>\n",
       "      <th>THE NUMBER OF PASSENGERS</th>\n",
       "      <th>DELAY MINUTES</th>\n",
       "      <th>BAGGAGE FEE</th>\n",
       "      <th>CABIN TYPE</th>\n",
       "    </tr>\n",
       "  </thead>\n",
       "  <tbody>\n",
       "    <tr>\n",
       "      <th>0</th>\n",
       "      <td>1</td>\n",
       "      <td>2019-01-10</td>\n",
       "      <td>Delta Air Lines</td>\n",
       "      <td>LHR</td>\n",
       "      <td>LAX</td>\n",
       "      <td>7.5</td>\n",
       "      <td>Business</td>\n",
       "      <td>1200.0</td>\n",
       "      <td>Monday</td>\n",
       "      <td>8785.0</td>\n",
       "      <td>150</td>\n",
       "      <td>15</td>\n",
       "      <td>25</td>\n",
       "      <td>Standard</td>\n",
       "    </tr>\n",
       "    <tr>\n",
       "      <th>1</th>\n",
       "      <td>2</td>\n",
       "      <td>2019-02-15</td>\n",
       "      <td>American Airlines</td>\n",
       "      <td>JFK</td>\n",
       "      <td>CDG</td>\n",
       "      <td>6.0</td>\n",
       "      <td>Economy</td>\n",
       "      <td>800.0</td>\n",
       "      <td>Tuesday</td>\n",
       "      <td>5834.0</td>\n",
       "      <td>120</td>\n",
       "      <td>10</td>\n",
       "      <td>20</td>\n",
       "      <td>Economy</td>\n",
       "    </tr>\n",
       "    <tr>\n",
       "      <th>2</th>\n",
       "      <td>3</td>\n",
       "      <td>2019-03-20</td>\n",
       "      <td>United Airlines</td>\n",
       "      <td>LHR</td>\n",
       "      <td>HND</td>\n",
       "      <td>12.0</td>\n",
       "      <td>First Class</td>\n",
       "      <td>2500.0</td>\n",
       "      <td>Wednesday</td>\n",
       "      <td>9582.0</td>\n",
       "      <td>180</td>\n",
       "      <td>30</td>\n",
       "      <td>35</td>\n",
       "      <td>Luxury</td>\n",
       "    </tr>\n",
       "    <tr>\n",
       "      <th>3</th>\n",
       "      <td>4</td>\n",
       "      <td>2019-04-25</td>\n",
       "      <td>Air France</td>\n",
       "      <td>CDG</td>\n",
       "      <td>LHR</td>\n",
       "      <td>4.5</td>\n",
       "      <td>Economy</td>\n",
       "      <td>600.0</td>\n",
       "      <td>Thursday</td>\n",
       "      <td>3419.0</td>\n",
       "      <td>130</td>\n",
       "      <td>5</td>\n",
       "      <td>15</td>\n",
       "      <td>Economy</td>\n",
       "    </tr>\n",
       "    <tr>\n",
       "      <th>4</th>\n",
       "      <td>5</td>\n",
       "      <td>2019-05-30</td>\n",
       "      <td>Lufthansa</td>\n",
       "      <td>JFK</td>\n",
       "      <td>PEK</td>\n",
       "      <td>9.0</td>\n",
       "      <td>Business</td>\n",
       "      <td>1500.0</td>\n",
       "      <td>Friday</td>\n",
       "      <td>6835.0</td>\n",
       "      <td>110</td>\n",
       "      <td>20</td>\n",
       "      <td>30</td>\n",
       "      <td>Standard</td>\n",
       "    </tr>\n",
       "    <tr>\n",
       "      <th>...</th>\n",
       "      <td>...</td>\n",
       "      <td>...</td>\n",
       "      <td>...</td>\n",
       "      <td>...</td>\n",
       "      <td>...</td>\n",
       "      <td>...</td>\n",
       "      <td>...</td>\n",
       "      <td>...</td>\n",
       "      <td>...</td>\n",
       "      <td>...</td>\n",
       "      <td>...</td>\n",
       "      <td>...</td>\n",
       "      <td>...</td>\n",
       "      <td>...</td>\n",
       "    </tr>\n",
       "    <tr>\n",
       "      <th>140</th>\n",
       "      <td>140</td>\n",
       "      <td>2023-10-25</td>\n",
       "      <td>Qatar Airways</td>\n",
       "      <td>LAX</td>\n",
       "      <td>LHR</td>\n",
       "      <td>9.0</td>\n",
       "      <td>First Class</td>\n",
       "      <td>2200.0</td>\n",
       "      <td>Sunday</td>\n",
       "      <td>343.0</td>\n",
       "      <td>160</td>\n",
       "      <td>25</td>\n",
       "      <td>30</td>\n",
       "      <td>Luxury</td>\n",
       "    </tr>\n",
       "    <tr>\n",
       "      <th>141</th>\n",
       "      <td>141</td>\n",
       "      <td>2023-01-10</td>\n",
       "      <td>JetBlue Airways</td>\n",
       "      <td>JFK</td>\n",
       "      <td>PEK</td>\n",
       "      <td>6.0</td>\n",
       "      <td>Business</td>\n",
       "      <td>1200.0</td>\n",
       "      <td>Monday</td>\n",
       "      <td>3981.0</td>\n",
       "      <td>170</td>\n",
       "      <td>15</td>\n",
       "      <td>25</td>\n",
       "      <td>Standard</td>\n",
       "    </tr>\n",
       "    <tr>\n",
       "      <th>142</th>\n",
       "      <td>142</td>\n",
       "      <td>2023-02-15</td>\n",
       "      <td>Air Canada</td>\n",
       "      <td>HND</td>\n",
       "      <td>CDG</td>\n",
       "      <td>10.0</td>\n",
       "      <td>Economy</td>\n",
       "      <td>850.0</td>\n",
       "      <td>Tuesday</td>\n",
       "      <td>8785.0</td>\n",
       "      <td>150</td>\n",
       "      <td>20</td>\n",
       "      <td>20</td>\n",
       "      <td>Economy</td>\n",
       "    </tr>\n",
       "    <tr>\n",
       "      <th>143</th>\n",
       "      <td>143</td>\n",
       "      <td>2023-03-20</td>\n",
       "      <td>EVA Air</td>\n",
       "      <td>CDG</td>\n",
       "      <td>LHR</td>\n",
       "      <td>6.5</td>\n",
       "      <td>First Class</td>\n",
       "      <td>1800.0</td>\n",
       "      <td>Wednesday</td>\n",
       "      <td>2232.0</td>\n",
       "      <td>160</td>\n",
       "      <td>30</td>\n",
       "      <td>30</td>\n",
       "      <td>Luxury</td>\n",
       "    </tr>\n",
       "    <tr>\n",
       "      <th>144</th>\n",
       "      <td>144</td>\n",
       "      <td>2023-04-25</td>\n",
       "      <td>South African Airways</td>\n",
       "      <td>JFK</td>\n",
       "      <td>LAX</td>\n",
       "      <td>8.0</td>\n",
       "      <td>Business</td>\n",
       "      <td>1600.0</td>\n",
       "      <td>Thursday</td>\n",
       "      <td>5546.0</td>\n",
       "      <td>120</td>\n",
       "      <td>25</td>\n",
       "      <td>25</td>\n",
       "      <td>Standard</td>\n",
       "    </tr>\n",
       "  </tbody>\n",
       "</table>\n",
       "<p>137 rows × 14 columns</p>\n",
       "</div>"
      ],
      "text/plain": [
       "     FLIGHT ID        DATE                AIRLINE SOURCE AIRPORT  \\\n",
       "0            1  2019-01-10        Delta Air Lines            LHR   \n",
       "1            2  2019-02-15      American Airlines            JFK   \n",
       "2            3  2019-03-20        United Airlines            LHR   \n",
       "3            4  2019-04-25             Air France            CDG   \n",
       "4            5  2019-05-30              Lufthansa            JFK   \n",
       "..         ...         ...                    ...            ...   \n",
       "140        140  2023-10-25          Qatar Airways            LAX   \n",
       "141        141  2023-01-10        JetBlue Airways            JFK   \n",
       "142        142  2023-02-15             Air Canada            HND   \n",
       "143        143  2023-03-20                EVA Air            CDG   \n",
       "144        144  2023-04-25  South African Airways            JFK   \n",
       "\n",
       "    DESTINATION AIRPORT  DURATION HOURS   SEAT PLACE   PRICE DAY OF WEEK  \\\n",
       "0                   LAX             7.5     Business  1200.0      Monday   \n",
       "1                   CDG             6.0      Economy   800.0     Tuesday   \n",
       "2                   HND            12.0  First Class  2500.0   Wednesday   \n",
       "3                   LHR             4.5      Economy   600.0    Thursday   \n",
       "4                   PEK             9.0     Business  1500.0      Friday   \n",
       "..                  ...             ...          ...     ...         ...   \n",
       "140                 LHR             9.0  First Class  2200.0      Sunday   \n",
       "141                 PEK             6.0     Business  1200.0      Monday   \n",
       "142                 CDG            10.0      Economy   850.0     Tuesday   \n",
       "143                 LHR             6.5  First Class  1800.0   Wednesday   \n",
       "144                 LAX             8.0     Business  1600.0    Thursday   \n",
       "\n",
       "     DISTANCE KM  THE NUMBER OF PASSENGERS  DELAY MINUTES  BAGGAGE FEE  \\\n",
       "0         8785.0                       150             15           25   \n",
       "1         5834.0                       120             10           20   \n",
       "2         9582.0                       180             30           35   \n",
       "3         3419.0                       130              5           15   \n",
       "4         6835.0                       110             20           30   \n",
       "..           ...                       ...            ...          ...   \n",
       "140        343.0                       160             25           30   \n",
       "141       3981.0                       170             15           25   \n",
       "142       8785.0                       150             20           20   \n",
       "143       2232.0                       160             30           30   \n",
       "144       5546.0                       120             25           25   \n",
       "\n",
       "    CABIN TYPE  \n",
       "0     Standard  \n",
       "1      Economy  \n",
       "2       Luxury  \n",
       "3      Economy  \n",
       "4     Standard  \n",
       "..         ...  \n",
       "140     Luxury  \n",
       "141   Standard  \n",
       "142    Economy  \n",
       "143     Luxury  \n",
       "144   Standard  \n",
       "\n",
       "[137 rows x 14 columns]"
      ]
     },
     "execution_count": 11,
     "metadata": {},
     "output_type": "execute_result"
    }
   ],
   "source": [
    "\n",
    "df.to_excel('cleaned_dataframe.xlsx', index=False)\n",
    "df\n"
   ]
  },
  {
   "cell_type": "code",
   "execution_count": 12,
   "metadata": {},
   "outputs": [
    {
     "data": {
      "text/html": [
       "<div>\n",
       "<style scoped>\n",
       "    .dataframe tbody tr th:only-of-type {\n",
       "        vertical-align: middle;\n",
       "    }\n",
       "\n",
       "    .dataframe tbody tr th {\n",
       "        vertical-align: top;\n",
       "    }\n",
       "\n",
       "    .dataframe thead th {\n",
       "        text-align: right;\n",
       "    }\n",
       "</style>\n",
       "<table border=\"1\" class=\"dataframe\">\n",
       "  <thead>\n",
       "    <tr style=\"text-align: right;\">\n",
       "      <th></th>\n",
       "      <th>FLIGHT ID</th>\n",
       "      <th>DATE</th>\n",
       "      <th>AIRLINE</th>\n",
       "      <th>SOURCE AIRPORT</th>\n",
       "      <th>DESTINATION AIRPORT</th>\n",
       "      <th>DURATION HOURS</th>\n",
       "      <th>SEAT PLACE</th>\n",
       "      <th>PRICE</th>\n",
       "      <th>DAY OF WEEK</th>\n",
       "      <th>DISTANCE KM</th>\n",
       "      <th>THE NUMBER OF PASSENGERS</th>\n",
       "      <th>DELAY MINUTES</th>\n",
       "      <th>BAGGAGE FEE</th>\n",
       "      <th>CABIN TYPE</th>\n",
       "    </tr>\n",
       "  </thead>\n",
       "  <tbody>\n",
       "    <tr>\n",
       "      <th>0</th>\n",
       "      <td>1</td>\n",
       "      <td>2019-01-10</td>\n",
       "      <td>Delta Air Lines</td>\n",
       "      <td>LHR</td>\n",
       "      <td>LAX</td>\n",
       "      <td>7.5</td>\n",
       "      <td>Business</td>\n",
       "      <td>1200</td>\n",
       "      <td>Monday</td>\n",
       "      <td>8785</td>\n",
       "      <td>150</td>\n",
       "      <td>15</td>\n",
       "      <td>25</td>\n",
       "      <td>Standard</td>\n",
       "    </tr>\n",
       "    <tr>\n",
       "      <th>1</th>\n",
       "      <td>2</td>\n",
       "      <td>2019-02-15</td>\n",
       "      <td>American Airlines</td>\n",
       "      <td>JFK</td>\n",
       "      <td>CDG</td>\n",
       "      <td>6.0</td>\n",
       "      <td>Economy</td>\n",
       "      <td>800</td>\n",
       "      <td>Tuesday</td>\n",
       "      <td>5834</td>\n",
       "      <td>120</td>\n",
       "      <td>10</td>\n",
       "      <td>20</td>\n",
       "      <td>Economy</td>\n",
       "    </tr>\n",
       "    <tr>\n",
       "      <th>2</th>\n",
       "      <td>3</td>\n",
       "      <td>2019-03-20</td>\n",
       "      <td>United Airlines</td>\n",
       "      <td>LHR</td>\n",
       "      <td>HND</td>\n",
       "      <td>12.0</td>\n",
       "      <td>First Class</td>\n",
       "      <td>2500</td>\n",
       "      <td>Wednesday</td>\n",
       "      <td>9582</td>\n",
       "      <td>180</td>\n",
       "      <td>30</td>\n",
       "      <td>35</td>\n",
       "      <td>Luxury</td>\n",
       "    </tr>\n",
       "    <tr>\n",
       "      <th>3</th>\n",
       "      <td>4</td>\n",
       "      <td>2019-04-25</td>\n",
       "      <td>Air France</td>\n",
       "      <td>CDG</td>\n",
       "      <td>LHR</td>\n",
       "      <td>4.5</td>\n",
       "      <td>Economy</td>\n",
       "      <td>600</td>\n",
       "      <td>Thursday</td>\n",
       "      <td>3419</td>\n",
       "      <td>130</td>\n",
       "      <td>5</td>\n",
       "      <td>15</td>\n",
       "      <td>Economy</td>\n",
       "    </tr>\n",
       "    <tr>\n",
       "      <th>4</th>\n",
       "      <td>5</td>\n",
       "      <td>2019-05-30</td>\n",
       "      <td>Lufthansa</td>\n",
       "      <td>JFK</td>\n",
       "      <td>PEK</td>\n",
       "      <td>9.0</td>\n",
       "      <td>Business</td>\n",
       "      <td>1500</td>\n",
       "      <td>Friday</td>\n",
       "      <td>6835</td>\n",
       "      <td>110</td>\n",
       "      <td>20</td>\n",
       "      <td>30</td>\n",
       "      <td>Standard</td>\n",
       "    </tr>\n",
       "    <tr>\n",
       "      <th>...</th>\n",
       "      <td>...</td>\n",
       "      <td>...</td>\n",
       "      <td>...</td>\n",
       "      <td>...</td>\n",
       "      <td>...</td>\n",
       "      <td>...</td>\n",
       "      <td>...</td>\n",
       "      <td>...</td>\n",
       "      <td>...</td>\n",
       "      <td>...</td>\n",
       "      <td>...</td>\n",
       "      <td>...</td>\n",
       "      <td>...</td>\n",
       "      <td>...</td>\n",
       "    </tr>\n",
       "    <tr>\n",
       "      <th>132</th>\n",
       "      <td>140</td>\n",
       "      <td>2023-10-25</td>\n",
       "      <td>Qatar Airways</td>\n",
       "      <td>LAX</td>\n",
       "      <td>LHR</td>\n",
       "      <td>9.0</td>\n",
       "      <td>First Class</td>\n",
       "      <td>2200</td>\n",
       "      <td>Sunday</td>\n",
       "      <td>343</td>\n",
       "      <td>160</td>\n",
       "      <td>25</td>\n",
       "      <td>30</td>\n",
       "      <td>Luxury</td>\n",
       "    </tr>\n",
       "    <tr>\n",
       "      <th>133</th>\n",
       "      <td>141</td>\n",
       "      <td>2023-01-10</td>\n",
       "      <td>JetBlue Airways</td>\n",
       "      <td>JFK</td>\n",
       "      <td>PEK</td>\n",
       "      <td>6.0</td>\n",
       "      <td>Business</td>\n",
       "      <td>1200</td>\n",
       "      <td>Monday</td>\n",
       "      <td>3981</td>\n",
       "      <td>170</td>\n",
       "      <td>15</td>\n",
       "      <td>25</td>\n",
       "      <td>Standard</td>\n",
       "    </tr>\n",
       "    <tr>\n",
       "      <th>134</th>\n",
       "      <td>142</td>\n",
       "      <td>2023-02-15</td>\n",
       "      <td>Air Canada</td>\n",
       "      <td>HND</td>\n",
       "      <td>CDG</td>\n",
       "      <td>10.0</td>\n",
       "      <td>Economy</td>\n",
       "      <td>850</td>\n",
       "      <td>Tuesday</td>\n",
       "      <td>8785</td>\n",
       "      <td>150</td>\n",
       "      <td>20</td>\n",
       "      <td>20</td>\n",
       "      <td>Economy</td>\n",
       "    </tr>\n",
       "    <tr>\n",
       "      <th>135</th>\n",
       "      <td>143</td>\n",
       "      <td>2023-03-20</td>\n",
       "      <td>EVA Air</td>\n",
       "      <td>CDG</td>\n",
       "      <td>LHR</td>\n",
       "      <td>6.5</td>\n",
       "      <td>First Class</td>\n",
       "      <td>1800</td>\n",
       "      <td>Wednesday</td>\n",
       "      <td>2232</td>\n",
       "      <td>160</td>\n",
       "      <td>30</td>\n",
       "      <td>30</td>\n",
       "      <td>Luxury</td>\n",
       "    </tr>\n",
       "    <tr>\n",
       "      <th>136</th>\n",
       "      <td>144</td>\n",
       "      <td>2023-04-25</td>\n",
       "      <td>South African Airways</td>\n",
       "      <td>JFK</td>\n",
       "      <td>LAX</td>\n",
       "      <td>8.0</td>\n",
       "      <td>Business</td>\n",
       "      <td>1600</td>\n",
       "      <td>Thursday</td>\n",
       "      <td>5546</td>\n",
       "      <td>120</td>\n",
       "      <td>25</td>\n",
       "      <td>25</td>\n",
       "      <td>Standard</td>\n",
       "    </tr>\n",
       "  </tbody>\n",
       "</table>\n",
       "<p>137 rows × 14 columns</p>\n",
       "</div>"
      ],
      "text/plain": [
       "     FLIGHT ID       DATE                AIRLINE SOURCE AIRPORT  \\\n",
       "0            1 2019-01-10        Delta Air Lines            LHR   \n",
       "1            2 2019-02-15      American Airlines            JFK   \n",
       "2            3 2019-03-20        United Airlines            LHR   \n",
       "3            4 2019-04-25             Air France            CDG   \n",
       "4            5 2019-05-30              Lufthansa            JFK   \n",
       "..         ...        ...                    ...            ...   \n",
       "132        140 2023-10-25          Qatar Airways            LAX   \n",
       "133        141 2023-01-10        JetBlue Airways            JFK   \n",
       "134        142 2023-02-15             Air Canada            HND   \n",
       "135        143 2023-03-20                EVA Air            CDG   \n",
       "136        144 2023-04-25  South African Airways            JFK   \n",
       "\n",
       "    DESTINATION AIRPORT  DURATION HOURS   SEAT PLACE  PRICE DAY OF WEEK  \\\n",
       "0                   LAX             7.5     Business   1200      Monday   \n",
       "1                   CDG             6.0      Economy    800     Tuesday   \n",
       "2                   HND            12.0  First Class   2500   Wednesday   \n",
       "3                   LHR             4.5      Economy    600    Thursday   \n",
       "4                   PEK             9.0     Business   1500      Friday   \n",
       "..                  ...             ...          ...    ...         ...   \n",
       "132                 LHR             9.0  First Class   2200      Sunday   \n",
       "133                 PEK             6.0     Business   1200      Monday   \n",
       "134                 CDG            10.0      Economy    850     Tuesday   \n",
       "135                 LHR             6.5  First Class   1800   Wednesday   \n",
       "136                 LAX             8.0     Business   1600    Thursday   \n",
       "\n",
       "     DISTANCE KM  THE NUMBER OF PASSENGERS  DELAY MINUTES  BAGGAGE FEE  \\\n",
       "0           8785                       150             15           25   \n",
       "1           5834                       120             10           20   \n",
       "2           9582                       180             30           35   \n",
       "3           3419                       130              5           15   \n",
       "4           6835                       110             20           30   \n",
       "..           ...                       ...            ...          ...   \n",
       "132          343                       160             25           30   \n",
       "133         3981                       170             15           25   \n",
       "134         8785                       150             20           20   \n",
       "135         2232                       160             30           30   \n",
       "136         5546                       120             25           25   \n",
       "\n",
       "    CABIN TYPE  \n",
       "0     Standard  \n",
       "1      Economy  \n",
       "2       Luxury  \n",
       "3      Economy  \n",
       "4     Standard  \n",
       "..         ...  \n",
       "132     Luxury  \n",
       "133   Standard  \n",
       "134    Economy  \n",
       "135     Luxury  \n",
       "136   Standard  \n",
       "\n",
       "[137 rows x 14 columns]"
      ]
     },
     "execution_count": 12,
     "metadata": {},
     "output_type": "execute_result"
    }
   ],
   "source": [
    "df = pd.read_excel(\"~/Desktop/cleaned_dataframe.xlsx\")\n",
    "\n",
    "df"
   ]
  },
  {
   "cell_type": "code",
   "execution_count": 13,
   "metadata": {},
   "outputs": [
    {
     "name": "stdout",
     "output_type": "stream",
     "text": [
      "FLIGHT ID                            int64\n",
      "DATE                        datetime64[ns]\n",
      "AIRLINE                             object\n",
      "SOURCE AIRPORT                      object\n",
      "DESTINATION AIRPORT                 object\n",
      "DURATION HOURS                     float64\n",
      "SEAT PLACE                          object\n",
      "PRICE                                int64\n",
      "DAY OF WEEK                         object\n",
      "DISTANCE KM                          int64\n",
      "THE NUMBER OF PASSENGERS             int64\n",
      "DELAY MINUTES                        int64\n",
      "BAGGAGE FEE                          int64\n",
      "CABIN TYPE                          object\n",
      "dtype: object\n"
     ]
    }
   ],
   "source": [
    "\n",
    "# Assume your DataFrame is named 'df'\n",
    "data_types = df.dtypes\n",
    "\n",
    "# Get the data types of each column in the DataFrame\n",
    "# The 'dtypes' attribute returns a Series with data type information for each column\n",
    "# The resulting 'data_types' variable is a pandas Series where index is column names and values are data types\n",
    "# Print the data types\n",
    "\n",
    "print(data_types)\n",
    "# This line prints the 'data_types' Series, which shows the data type of each column in the DataFrame 'df'\n",
    "# The output will be a list of column names along with their corresponding data types\n"
   ]
  },
  {
   "cell_type": "markdown",
   "metadata": {},
   "source": [
    "Data Type Conversion for Selected Columns:"
   ]
  },
  {
   "cell_type": "code",
   "execution_count": 14,
   "metadata": {},
   "outputs": [
    {
     "name": "stdout",
     "output_type": "stream",
     "text": [
      "FLIGHT ID                           object\n",
      "DATE                        datetime64[ns]\n",
      "AIRLINE                             object\n",
      "SOURCE AIRPORT                      object\n",
      "DESTINATION AIRPORT                 object\n",
      "DURATION HOURS                     float64\n",
      "SEAT PLACE                          object\n",
      "PRICE                                int64\n",
      "DAY OF WEEK                         object\n",
      "DISTANCE KM                          int64\n",
      "THE NUMBER OF PASSENGERS             int64\n",
      "DELAY MINUTES                        int64\n",
      "BAGGAGE FEE                          int64\n",
      "CABIN TYPE                          object\n",
      "dtype: object\n"
     ]
    }
   ],
   "source": [
    "# Explanation\n",
    "\n",
    "# Convert 'FLIGHT ID' column to string data type\n",
    "# The 'astype' method is used to convert the data type of the 'FLIGHT ID' column to 'str' (string).\n",
    "df['FLIGHT ID'] = df['FLIGHT ID'].astype(str)\n",
    "\n",
    "# Convert 'PRICE' column to integer data type\n",
    "# The 'astype' method is used to convert the data type of the 'PRICE' column to 'int' (integer).\n",
    "df['PRICE'] = df['PRICE'].astype(int)\n",
    "\n",
    "# Convert 'DISTANCE KM' column to integer data type\n",
    "# The 'astype' method is used to convert the data type of the 'DISTANCE KM' column to 'int' (integer).\n",
    "df['DISTANCE KM'] = df['DISTANCE KM'].astype(int)\n",
    "\n",
    "# Convert 'CABIN TYPE' column to string data type\n",
    "# The 'astype' method is used to convert the data type of the 'CABIN TYPE' column to 'str' (string).\n",
    "df['CABIN TYPE'] = df['CABIN TYPE'].astype(str)\n",
    "\n",
    "# Print the data types of each column after the conversions\n",
    "# The 'dtypes' attribute is used to display the data types of each column in the DataFrame.\n",
    "print(df.dtypes)\n"
   ]
  },
  {
   "cell_type": "markdown",
   "metadata": {},
   "source": [
    "Counting Airlines in DataFrame:"
   ]
  },
  {
   "cell_type": "code",
   "execution_count": 15,
   "metadata": {},
   "outputs": [
    {
     "name": "stdout",
     "output_type": "stream",
     "text": [
      "Total Airlines: 22\n",
      "Airlines:\n",
      " AIRLINE\n",
      "Qantas                      13\n",
      "EVA Air                      7\n",
      "United Airlines              7\n",
      "Air France                   7\n",
      "Lufthansa                    7\n",
      "British Airways              7\n",
      "Singapore Airlines           7\n",
      "South African Airways        7\n",
      "American Airlines            7\n",
      "JetBlue Airways              7\n",
      "Air Canada                   7\n",
      "Delta Air Lines              6\n",
      "Southwest Airlines           6\n",
      "Cathay Pacific               6\n",
      "Qatar Airways                6\n",
      "Alaska Airlines              6\n",
      "Emirates                     6\n",
      "ANA - All Nippon Airways     6\n",
      "Virgin Atlantic              5\n",
      "Turkish Airlines             5\n",
      "Turkish_Airlines             1\n",
      "Alaska_Airlines              1\n",
      "Name: count, dtype: int64\n"
     ]
    }
   ],
   "source": [
    "\n",
    "# Count the number of unique airlines\n",
    "airline_count = df['AIRLINE'].nunique()\n",
    "print(\"Total Airlines:\", airline_count)\n",
    "\n",
    "# Alternatively, count occurrences for each airline\n",
    "airline_counts = df['AIRLINE'].value_counts()\n",
    "print(\"Airlines:\\n\", airline_counts)\n",
    "\n",
    "# Explanation:\n",
    "# 'nunique()' counts unique airlines in 'AIRLINE' column.\n",
    "# 'value_counts()' tallies occurrences of each airline.\n"
   ]
  },
  {
   "cell_type": "markdown",
   "metadata": {},
   "source": [
    "Counting the Number of Source Airports:"
   ]
  },
  {
   "cell_type": "code",
   "execution_count": 16,
   "metadata": {},
   "outputs": [
    {
     "name": "stdout",
     "output_type": "stream",
     "text": [
      "Number of Source Airports:\n",
      " SOURCE AIRPORT\n",
      "JFK    33\n",
      "CDG    27\n",
      "LAX    26\n",
      "LHR    24\n",
      "HND    14\n",
      "PEK    13\n",
      "Name: count, dtype: int64\n"
     ]
    }
   ],
   "source": [
    "\n",
    "# Count the number of frequencies for each source airport\n",
    "airport_counts = df['SOURCE AIRPORT'].value_counts()\n",
    "\n",
    "# Print the number of source airports and their frequencies\n",
    "print(\"Number of Source Airports:\\n\", airport_counts)\n",
    "\n",
    "# Explanation:\n",
    "# - The 'value_counts()' method counts frequencies of each unique source airport in the 'SOURCE AIRPORT' column.\n",
    "# - The result is printed, displaying the number of source airports and their respective frequencies.\n"
   ]
  },
  {
   "cell_type": "markdown",
   "metadata": {},
   "source": [
    "Counting the Number of Destination Airports:"
   ]
  },
  {
   "cell_type": "code",
   "execution_count": 17,
   "metadata": {},
   "outputs": [
    {
     "name": "stdout",
     "output_type": "stream",
     "text": [
      "Number of Destination Airports:\n",
      " DESTINATION AIRPORT\n",
      "CDG     36\n",
      "HND     30\n",
      "LHR     27\n",
      "LAX     22\n",
      "PEK     14\n",
      "JFK      7\n",
      " HND     1\n",
      "Name: count, dtype: int64\n"
     ]
    }
   ],
   "source": [
    "\n",
    "# Count the number of frequency for each destination airport\n",
    "airport_counts = df['DESTINATION AIRPORT'].value_counts()\n",
    "\n",
    "# Print the number of destination airports and their frequency\n",
    "print(\"Number of Destination Airports:\\n\", airport_counts)\n",
    "\n",
    "# Explanation:\n",
    "# - The 'value_counts()' method counts frequency of each unique destination airport in the 'DESTINATION AIRPORT' column.\n",
    "# - The result is printed, displaying the number of destination airports and their respective frequencies.\n"
   ]
  },
  {
   "cell_type": "markdown",
   "metadata": {},
   "source": [
    "Summary Statistics for 'DURATION HOURS'"
   ]
  },
  {
   "cell_type": "code",
   "execution_count": 18,
   "metadata": {},
   "outputs": [
    {
     "name": "stdout",
     "output_type": "stream",
     "text": [
      "Summary Statistic About DURATION HOURS\n",
      "\n",
      "count    137.000000\n",
      "mean       7.596296\n",
      "std        2.915789\n",
      "min        2.000000\n",
      "25%        5.500000\n",
      "50%        7.500000\n",
      "75%        9.000000\n",
      "max       13.500000\n",
      "Name: DURATION HOURS, dtype: float64\n"
     ]
    }
   ],
   "source": [
    "\n",
    "summary_stats = df['DURATION HOURS'].describe()\n",
    "\n",
    "print(\"Summary Statistic About DURATION HOURS\\n\")\n",
    "print(summary_stats)\n",
    "\n",
    "\n",
    "#  Explanation:\n",
    "#   The describe() method is utilized to calculate summary statistics for the 'DURATION HOURS' #column, \n",
    "#   including mean, standard deviation, quartiles, and other relevant metrics.\n",
    "#   The print statements display the obtained summary statistics for 'DURATION HOURS', providing \n",
    "#   insights into the central tendency and distribution of the data. \n"
   ]
  },
  {
   "cell_type": "markdown",
   "metadata": {},
   "source": [
    "Counting the Number of Seat Place:"
   ]
  },
  {
   "cell_type": "code",
   "execution_count": 19,
   "metadata": {},
   "outputs": [
    {
     "name": "stdout",
     "output_type": "stream",
     "text": [
      "Types of Seat Place: 3\n",
      "Number of Seat Place:\n",
      " SEAT PLACE\n",
      "Economy        56\n",
      "Business       42\n",
      "First Class    39\n",
      "Name: count, dtype: int64\n"
     ]
    }
   ],
   "source": [
    "\n",
    "# Count the number of unique seat places\n",
    "seat_place_count = df['SEAT PLACE'].nunique()\n",
    "print(\"Types of Seat Place:\", seat_place_count)\n",
    "\n",
    "# Alternatively, count the number of occurrences for each seat place\n",
    "seat_place_counts = df['SEAT PLACE'].value_counts()\n",
    "print(\"Number of Seat Place:\\n\", seat_place_counts)\n",
    "\n",
    "# Explanation:\n",
    "# - The 'nunique()' method counts the number of unique values in the 'SEAT PLACE' column, representing different types of seat places.\n",
    "# - The 'value_counts()' method tallies occurrences of each unique seat place, providing a distribution of seat types.\n"
   ]
  },
  {
   "cell_type": "markdown",
   "metadata": {},
   "source": [
    "Summary Statistics for 'PRICE'"
   ]
  },
  {
   "cell_type": "code",
   "execution_count": 20,
   "metadata": {},
   "outputs": [
    {
     "name": "stdout",
     "output_type": "stream",
     "text": [
      "Summary Statistics for PRICE:\n",
      "\n",
      "count     137.000000\n",
      "mean     1300.729927\n",
      "std       755.421226\n",
      "min       400.000000\n",
      "25%       700.000000\n",
      "50%      1100.000000\n",
      "75%      2000.000000\n",
      "max      2800.000000\n",
      "Name: PRICE, dtype: float64\n"
     ]
    }
   ],
   "source": [
    "\n",
    "# Calculate and Print Summary Statistics for 'PRICE'\n",
    "price_summary_stats = df['PRICE'].describe()\n",
    "\n",
    "# Print Summary Statistics for 'PRICE'\n",
    "print(\"Summary Statistics for PRICE:\\n\")\n",
    "print(price_summary_stats)\n",
    "\n",
    "# Explanation:\n",
    "# - The 'describe()' method is used to calculate summary statistics for the 'PRICE' column, including mean, standard deviation, quartiles, and other relevant metrics.\n",
    "# - The result is printed, providing insights into the distribution and central tendency of the price data.\n"
   ]
  },
  {
   "cell_type": "markdown",
   "metadata": {},
   "source": [
    "Count the number of frequency for each day of the week"
   ]
  },
  {
   "cell_type": "code",
   "execution_count": 21,
   "metadata": {},
   "outputs": [
    {
     "name": "stdout",
     "output_type": "stream",
     "text": [
      "Number of Day of Week:\n",
      " DAY OF WEEK\n",
      "Tuesday      21\n",
      "Monday       20\n",
      "Wednesday    20\n",
      "Thursday     20\n",
      "Saturday     19\n",
      "Sunday       19\n",
      "Friday       18\n",
      "Name: count, dtype: int64\n"
     ]
    }
   ],
   "source": [
    "\n",
    "# Count the number of frequency for each day of the week\n",
    "day_of_week_counts = df['DAY OF WEEK'].value_counts()\n",
    "\n",
    "# Print the number of frequency for each day of the week\n",
    "print(\"Number of Day of Week:\\n\", day_of_week_counts)\n",
    "\n",
    "# Explanation:\n",
    "# - The 'value_counts()' method is applied to the 'DAY OF WEEK' column, counting frequency for each unique day of the week.\n",
    "# - The result is printed, displaying the number of frequency for each day of the week.\n"
   ]
  },
  {
   "cell_type": "markdown",
   "metadata": {},
   "source": [
    "Summary Statistics for 'DISTANCE KM'"
   ]
  },
  {
   "cell_type": "code",
   "execution_count": 22,
   "metadata": {},
   "outputs": [
    {
     "name": "stdout",
     "output_type": "stream",
     "text": [
      "Summary Statistics for DISTANCE KM\n",
      "\n",
      "count     137.000000\n",
      "mean     5032.934307\n",
      "std      3102.020336\n",
      "min       341.000000\n",
      "25%      2232.000000\n",
      "50%      5546.000000\n",
      "75%      8785.000000\n",
      "max      9582.000000\n",
      "Name: DISTANCE KM, dtype: float64\n"
     ]
    }
   ],
   "source": [
    "\n",
    "# Calculate and Print Summary Statistics for 'DISTANCE KM'\n",
    "distance_summary_stats = df['DISTANCE KM'].describe()\n",
    "\n",
    "# Print Summary Statistics for 'DISTANCE KM'\n",
    "print(\"Summary Statistics for DISTANCE KM\\n\")\n",
    "print(distance_summary_stats)\n",
    "\n",
    "# Explanation:\n",
    "# - The 'describe()' method is used to calculate summary statistics for the 'DISTANCE KM' column, including mean, standard deviation, quartiles, and other relevant metrics.\n",
    "# - The result is printed, providing insights into the distribution and central tendency of the distance data.\n"
   ]
  },
  {
   "cell_type": "markdown",
   "metadata": {},
   "source": [
    "Summary Statistics for 'DELAY MINUTES'"
   ]
  },
  {
   "cell_type": "code",
   "execution_count": 23,
   "metadata": {},
   "outputs": [
    {
     "name": "stdout",
     "output_type": "stream",
     "text": [
      "Summary Statistics for DELAY MINUTES:\n",
      "\n",
      "count    137.000000\n",
      "mean      18.138686\n",
      "std        7.549038\n",
      "min        5.000000\n",
      "25%       15.000000\n",
      "50%       20.000000\n",
      "75%       25.000000\n",
      "max       30.000000\n",
      "Name: DELAY MINUTES, dtype: float64\n"
     ]
    }
   ],
   "source": [
    "\n",
    "# Calculate and Print Summary Statistics for 'DELAY MINUTES'\n",
    "delay_summary_stats = df['DELAY MINUTES'].describe()\n",
    "\n",
    "# Print Summary Statistics for 'DELAY MINUTES'\n",
    "print(\"Summary Statistics for DELAY MINUTES:\\n\")\n",
    "print(delay_summary_stats)\n",
    "\n",
    "# Explanation:\n",
    "# - The 'describe()' method is used to calculate summary statistics for the 'DELAY MINUTES' column, including mean, standard deviation, quartiles, and other relevant metrics.\n",
    "# - The result is printed, providing insights into the distribution and central tendency of the delay minutes data.\n"
   ]
  },
  {
   "cell_type": "markdown",
   "metadata": {},
   "source": [
    "Summary Statistics for 'BAGGAGE FEE'"
   ]
  },
  {
   "cell_type": "code",
   "execution_count": 24,
   "metadata": {},
   "outputs": [
    {
     "name": "stdout",
     "output_type": "stream",
     "text": [
      "Summary Statistics for BAGGAGE FEE:\n",
      "\n",
      "count    137.000000\n",
      "mean      25.912409\n",
      "std        5.947657\n",
      "min       15.000000\n",
      "25%       20.000000\n",
      "50%       25.000000\n",
      "75%       30.000000\n",
      "max       35.000000\n",
      "Name: BAGGAGE FEE, dtype: float64\n"
     ]
    }
   ],
   "source": [
    "\n",
    "# Calculate and Print Summary Statistics for 'BAGGAGE FEE'\n",
    "baggage_fee_summary_stats = df['BAGGAGE FEE'].describe()\n",
    "\n",
    "# Print Summary Statistics for 'BAGGAGE FEE'\n",
    "print(\"Summary Statistics for BAGGAGE FEE:\\n\")\n",
    "print(baggage_fee_summary_stats)\n",
    "\n",
    "# Explanation:\n",
    "# - The 'describe()' method is used to calculate summary statistics for the 'BAGGAGE FEE' column, including mean, standard deviation, quartiles, and other relevant metrics.\n",
    "# - The result is printed, providing insights into the distribution and central tendency of the baggage fee data.\n"
   ]
  },
  {
   "cell_type": "markdown",
   "metadata": {},
   "source": [
    "Count The Number of Frequency Cabin Types "
   ]
  },
  {
   "cell_type": "code",
   "execution_count": 25,
   "metadata": {},
   "outputs": [
    {
     "name": "stdout",
     "output_type": "stream",
     "text": [
      "Types of Cabin Type: 3\n",
      "Number of Cabin Type:\n",
      " CABIN TYPE\n",
      "Luxury      51\n",
      "Economy     47\n",
      "Standard    39\n",
      "Name: count, dtype: int64\n"
     ]
    }
   ],
   "source": [
    "\n",
    "# Count the number of frequency cabin types\n",
    "cabin_type_count = df['CABIN TYPE'].nunique()\n",
    "print(\"Types of Cabin Type:\", cabin_type_count)\n",
    "\n",
    "# Alternatively, count the number of occurrences for each cabin type\n",
    "cabin_type_counts = df['CABIN TYPE'].value_counts()\n",
    "print(\"Number of Cabin Type:\\n\", cabin_type_counts)\n",
    "\n",
    "# Explanation:\n",
    "# - The 'nunique()' method counts the number of unique values in the 'CABIN TYPE' column, representing different types of cabin classes.\n",
    "# - The 'value_counts()' method tallies occurrences of each unique cabin type, providing a distribution of cabin classes.\n"
   ]
  },
  {
   "cell_type": "markdown",
   "metadata": {},
   "source": [
    "GRAPHS"
   ]
  },
  {
   "cell_type": "code",
   "execution_count": 26,
   "metadata": {},
   "outputs": [
    {
     "data": {
      "image/png": "[encoded data removed]",
      "text/plain": [
       "<Figure size 800x600 with 1 Axes>"
      ]
     },
     "metadata": {},
     "output_type": "display_data"
    }
   ],
   "source": [
    "\n",
    "# Scatter plot visualization\n",
    "plt.figure(figsize=(8, 6))\n",
    "sns.regplot(x='THE NUMBER OF PASSENGERS', y='PRICE', data=df, scatter_kws={\"color\": \"blue\"}, line_kws={\"color\": \"red\"})\n",
    "\n",
    "# Add title and axis labels\n",
    "plt.title('Scatter Plot: The Number of Passengers vs Price')\n",
    "plt.xlabel('The Number of Passengers')\n",
    "plt.ylabel('Price')\n",
    "\n",
    "# Display the plot\n",
    "plt.show()\n",
    "\n",
    "#### Explanation:\n",
    "#### - The code uses sns.regplot to create a scatter plot of 'The Number of Passengers' against 'Price' with a regression line.\n",
    "#### - The scatter_kws and line_kws parameters set the color of the scatter points and regression line, respectively.\n",
    "#### - Title and axis labels are added using plt.title, plt.xlabel, and plt.ylabel.\n",
    "#### - The plot is displayed using plt.show().\n"
   ]
  },
  {
   "cell_type": "code",
   "execution_count": 27,
   "metadata": {},
   "outputs": [
    {
     "data": {
      "application/vnd.plotly.v1+json": {
       "config": {
        "plotlyServerURL": "https://plot.ly"
       },
       "data": [
        {
         "alignmentgroup": "True",
         "box": {
          "visible": true
         },
         "customdata": [
          [
           "1",
           "2019-01-10T00:00:00",
           "Delta Air Lines",
           "LHR",
           "LAX",
           7.5,
           "Business",
           "Monday",
           8785,
           150,
           15,
           25
          ],
          [
           "5",
           "2019-05-30T00:00:00",
           "Lufthansa",
           "JFK",
           "PEK",
           9,
           "Business",
           "Friday",
           6835,
           110,
           20,
           30
          ],
          [
           "8",
           "2019-08-15T00:00:00",
           "Singapore Airlines",
           "JFK",
           "CDG",
           13.5,
           "Business",
           "Monday",
           5834,
           170,
           30,
           25
          ],
          [
           "15",
           "2020-03-20T00:00:00",
           "JetBlue Airways",
           "JFK",
           "PEK",
           6.5,
           "Business",
           "Monday",
           6835,
           170,
           15,
           25
          ],
          [
           "18",
           "2020-06-05T00:00:00",
           "South African Airways",
           "JFK",
           "CDG",
           7.596296296296297,
           "Business",
           "Thursday",
           5834,
           120,
           25,
           25
          ],
          [
           "26",
           "2022-02-15T00:00:00",
           "Lufthansa",
           "LAX",
           "JFK",
           6.5,
           "Business",
           "Friday",
           3981,
           110,
           15,
           25
          ],
          [
           "29",
           "2022-05-30T00:00:00",
           "Singapore Airlines",
           "CDG",
           "LAX",
           13,
           "Business",
           "Monday",
           8785,
           170,
           30,
           25
          ],
          [
           "32",
           "2022-08-15T00:00:00",
           "Cathay Pacific",
           "JFK",
           "CDG",
           7,
           "Economy",
           "Thursday",
           3981,
           110,
           20,
           25
          ],
          [
           "36",
           "2023-01-10T00:00:00",
           "JetBlue Airways",
           "JFK",
           "PEK",
           6,
           "Business",
           "Monday",
           3981,
           170,
           15,
           25
          ],
          [
           "39",
           "2023-04-25T00:00:00",
           "South African Airways",
           "JFK",
           "LAX",
           8,
           "Business",
           "Thursday",
           5546,
           120,
           25,
           25
          ],
          [
           "43",
           "2023-08-15T00:00:00",
           "Delta Air Lines",
           "LAX",
           "CDG",
           5.5,
           "Economy",
           "Monday",
           3981,
           110,
           15,
           25
          ],
          [
           "47",
           "2023-01-10T00:00:00",
           "Lufthansa",
           "LAX",
           "JFK",
           6.5,
           "Business",
           "Friday",
           3981,
           110,
           15,
           25
          ],
          [
           "50",
           "2023-04-25T00:00:00",
           "Singapore Airlines",
           "CDG",
           "LAX",
           13,
           "Business",
           "Monday",
           8785,
           170,
           30,
           25
          ],
          [
           "53",
           "2023-07-10T00:00:00",
           "Cathay Pacific",
           "JFK",
           "CDG",
           7,
           "Economy",
           "Thursday",
           3981,
           110,
           20,
           25
          ],
          [
           "57",
           "2023-01-10T00:00:00",
           "JetBlue Airways",
           "JFK",
           "PEK",
           6,
           "Business",
           "Monday",
           3981,
           170,
           15,
           25
          ],
          [
           "60",
           "2023-04-25T00:00:00",
           "South African Airways",
           "JFK",
           "LAX",
           8,
           "Business",
           "Thursday",
           5546,
           120,
           25,
           25
          ],
          [
           "64",
           "2023-08-15T00:00:00",
           "Delta Air Lines",
           "LAX",
           "CDG",
           5.5,
           "Economy",
           "Monday",
           3981,
           110,
           15,
           25
          ],
          [
           "68",
           "2022-01-10T00:00:00",
           "Lufthansa",
           "LAX",
           "JFK",
           6.5,
           "Business",
           "Friday",
           3981,
           110,
           15,
           25
          ],
          [
           "71",
           "2022-04-25T00:00:00",
           "Singapore Airlines",
           "CDG",
           "LAX",
           13,
           "Business",
           "Monday",
           8785,
           170,
           30,
           25
          ],
          [
           "74",
           "2022-07-10T00:00:00",
           "Cathay Pacific",
           "JFK",
           "CDG",
           7,
           "Economy",
           "Thursday",
           3981,
           110,
           20,
           25
          ],
          [
           "78",
           "2023-01-10T00:00:00",
           "JetBlue Airways",
           "JFK",
           "PEK",
           6,
           "Business",
           "Monday",
           3981,
           170,
           15,
           25
          ],
          [
           "81",
           "2023-04-25T00:00:00",
           "South African Airways",
           "JFK",
           "LAX",
           8,
           "Business",
           "Thursday",
           5546,
           120,
           25,
           25
          ],
          [
           "85",
           "2023-08-15T00:00:00",
           "Delta Air Lines",
           "LAX",
           "CDG",
           5.5,
           "Economy",
           "Monday",
           3981,
           110,
           15,
           25
          ],
          [
           "89",
           "2023-01-10T00:00:00",
           "Lufthansa",
           "LAX",
           "JFK",
           6.5,
           "Business",
           "Friday",
           3981,
           110,
           15,
           25
          ],
          [
           "92",
           "2023-04-25T00:00:00",
           "Singapore Airlines",
           "CDG",
           "LAX",
           13,
           "Business",
           "Monday",
           8785,
           170,
           30,
           25
          ],
          [
           "95",
           "2023-07-10T00:00:00",
           "Cathay Pacific",
           "JFK",
           "CDG",
           7,
           "Economy",
           "Thursday",
           3981,
           110,
           20,
           25
          ],
          [
           "99",
           "2023-01-10T00:00:00",
           "JetBlue Airways",
           "JFK",
           "PEK",
           6,
           "Business",
           "Monday",
           3981,
           170,
           15,
           25
          ],
          [
           "102",
           "2023-04-25T00:00:00",
           "South African Airways",
           "JFK",
           "LAX",
           8,
           "Business",
           "Thursday",
           5546,
           120,
           25,
           25
          ],
          [
           "110",
           "2023-01-10T00:00:00",
           "Lufthansa",
           "LAX",
           "JFK",
           6.5,
           "Business",
           "Friday",
           3981,
           110,
           15,
           25
          ],
          [
           "113",
           "2023-04-25T00:00:00",
           "Singapore Airlines",
           "CDG",
           "LAX",
           13,
           "Business",
           "Monday",
           8785,
           170,
           30,
           25
          ],
          [
           "116",
           "2023-07-10T00:00:00",
           "Cathay Pacific",
           "JFK",
           "CDG",
           7,
           "Economy",
           "Thursday",
           3981,
           110,
           20,
           25
          ],
          [
           "120",
           "2023-01-10T00:00:00",
           "JetBlue Airways",
           "JFK",
           "PEK",
           6,
           "Business",
           "Monday",
           3981,
           170,
           15,
           25
          ],
          [
           "123",
           "2023-04-25T00:00:00",
           "South African Airways",
           "JFK",
           "LAX",
           8,
           "Business",
           "Thursday",
           5546,
           120,
           25,
           25
          ],
          [
           "127",
           "2023-08-15T00:00:00",
           "Delta Air Lines",
           "LAX",
           "CDG",
           5.5,
           "Economy",
           "Monday",
           3981,
           110,
           15,
           25
          ],
          [
           "131",
           "2023-01-10T00:00:00",
           "Lufthansa",
           "LAX",
           "JFK",
           6.5,
           "Business",
           "Friday",
           3981,
           110,
           15,
           25
          ],
          [
           "134",
           "2023-04-25T00:00:00",
           "Singapore Airlines",
           "CDG",
           "LAX",
           13,
           "Business",
           "Monday",
           8785,
           170,
           30,
           25
          ],
          [
           "137",
           "2023-07-10T00:00:00",
           "Cathay Pacific",
           "JFK",
           "CDG",
           7,
           "Economy",
           "Thursday",
           3981,
           110,
           20,
           25
          ],
          [
           "141",
           "2023-01-10T00:00:00",
           "JetBlue Airways",
           "JFK",
           "PEK",
           6,
           "Business",
           "Monday",
           3981,
           170,
           15,
           25
          ],
          [
           "144",
           "2023-04-25T00:00:00",
           "South African Airways",
           "JFK",
           "LAX",
           8,
           "Business",
           "Thursday",
           5546,
           120,
           25,
           25
          ]
         ],
         "hovertemplate": "CABIN TYPE=%{x}<br>PRICE=%{y}<br>FLIGHT ID=%{customdata[0]}<br>DATE=%{customdata[1]}<br>AIRLINE=%{customdata[2]}<br>SOURCE AIRPORT=%{customdata[3]}<br>DESTINATION AIRPORT=%{customdata[4]}<br>DURATION HOURS=%{customdata[5]}<br>SEAT PLACE=%{customdata[6]}<br>DAY OF WEEK=%{customdata[7]}<br>DISTANCE KM=%{customdata[8]}<br>THE NUMBER OF PASSENGERS=%{customdata[9]}<br>DELAY MINUTES=%{customdata[10]}<br>BAGGAGE FEE=%{customdata[11]}<extra></extra>",
         "legendgroup": "Standard",
         "marker": {
          "color": "#636efa"
         },
         "name": "Standard",
         "offsetgroup": "Standard",
         "orientation": "v",
         "points": "all",
         "scalegroup": "True",
         "showlegend": true,
         "type": "violin",
         "x": [
          "Standard",
          "Standard",
          "Standard",
          "Standard",
          "Standard",
          "Standard",
          "Standard",
          "Standard",
          "Standard",
          "Standard",
          "Standard",
          "Standard",
          "Standard",
          "Standard",
          "Standard",
          "Standard",
          "Standard",
          "Standard",
          "Standard",
          "Standard",
          "Standard",
          "Standard",
          "Standard",
          "Standard",
          "Standard",
          "Standard",
          "Standard",
          "Standard",
          "Standard",
          "Standard",
          "Standard",
          "Standard",
          "Standard",
          "Standard",
          "Standard",
          "Standard",
          "Standard",
          "Standard",
          "Standard"
         ],
         "x0": " ",
         "xaxis": "x",
         "y": [
          1200,
          1500,
          2200,
          1200,
          1100,
          1100,
          2500,
          600,
          1200,
          1600,
          600,
          1100,
          2500,
          600,
          1200,
          1600,
          600,
          1100,
          2500,
          600,
          1200,
          1600,
          600,
          1100,
          2500,
          600,
          1200,
          1600,
          1100,
          2500,
          600,
          1200,
          1600,
          600,
          1100,
          2500,
          600,
          1200,
          1600
         ],
         "y0": " ",
         "yaxis": "y"
        },
        {
         "alignmentgroup": "True",
         "box": {
          "visible": true
         },
         "customdata": [
          [
           "2",
           "2019-02-15T00:00:00",
           "American Airlines",
           "JFK",
           "CDG",
           6,
           "Economy",
           "Tuesday",
           5834,
           120,
           10,
           20
          ],
          [
           "4",
           "2019-04-25T00:00:00",
           "Air France",
           "CDG",
           "LHR",
           4.5,
           "Economy",
           "Thursday",
           3419,
           130,
           5,
           15
          ],
          [
           "6",
           "2019-06-05T00:00:00",
           "ANA - All Nippon Airways",
           "HND",
           "LHR",
           11,
           "Economy",
           "Saturday",
           9550,
           140,
           25,
           25
          ],
          [
           "9",
           "2019-09-20T00:00:00",
           "Qantas",
           "CDG",
           "LHR",
           7,
           "Economy",
           "Tuesday",
           3419,
           120,
           15,
           20
          ],
          [
           "13",
           "2020-01-10T00:00:00",
           "Alaska Airlines",
           "CDG",
           "LHR",
           7.596296296296297,
           "Economy",
           "Saturday",
           3419,
           130,
           10,
           20
          ],
          [
           "16",
           "2020-04-25T00:00:00",
           "Air Canada",
           "PEK",
           "LHR",
           11.5,
           "Economy",
           "Tuesday",
           9582,
           150,
           20,
           20
          ],
          [
           "23",
           "2021-11-30T00:00:00",
           "American Airlines",
           "CDG",
           "PEK",
           9,
           "Economy",
           "Tuesday",
           7916,
           120,
           15,
           20
          ],
          [
           "24",
           "2021-12-05T00:00:00",
           "United Airlines",
           "LHR",
           "CDG",
           2.5,
           "First Class",
           "Wednesday",
           341,
           180,
           5,
           15
          ],
          [
           "25",
           "2022-01-10T00:00:00",
           "Air France",
           "PEK",
           "HND",
           5,
           "Economy",
           "Thursday",
           2232,
           130,
           10,
           20
          ],
          [
           "30",
           "2022-06-05T00:00:00",
           "Qantas",
           "LHR",
           "HND",
           7.5,
           "Economy",
           "Tuesday",
           9550,
           120,
           15,
           20
          ],
          [
           "34",
           "2022-10-25T00:00:00",
           "Alaska_Airlines",
           "PEK",
           "HND",
           5.5,
           "Economy",
           "Saturday",
           5546,
           140,
           20,
           20
          ],
          [
           "37",
           "2023-02-15T00:00:00",
           "Air Canada",
           "HND",
           "CDG",
           10,
           "Economy",
           "Tuesday",
           8785,
           150,
           20,
           20
          ],
          [
           "40",
           "2023-05-30T00:00:00",
           "Virgin Atlantic",
           "LAX",
           "HND",
           11,
           "Economy",
           "Friday",
           343,
           110,
           10,
           20
          ],
          [
           "45",
           "2023-10-25T00:00:00",
           "United Airlines",
           "LHR",
           "CDG",
           2.5,
           "Economy",
           "Wednesday",
           341,
           180,
           5,
           15
          ],
          [
           "46",
           "2023-11-30T00:00:00",
           "Air France",
           "PEK",
           "HND",
           5,
           "Economy",
           "Thursday",
           2232,
           130,
           10,
           20
          ],
          [
           "48",
           "2023-02-15T00:00:00",
           "ANA - All Nippon Airways",
           "JFK",
           "HND",
           9,
           "Economy",
           "Saturday",
           5546,
           140,
           20,
           20
          ],
          [
           "51",
           "2023-05-30T00:00:00",
           "Qantas",
           "LHR",
           "HND",
           7.5,
           "Economy",
           "Tuesday",
           9550,
           120,
           15,
           20
          ],
          [
           "55",
           "2023-09-20T00:00:00",
           "Alaska Airlines",
           "PEK",
           "HND",
           5.5,
           "Economy",
           "Saturday",
           5546,
           140,
           20,
           20
          ],
          [
           "58",
           "2023-02-15T00:00:00",
           "Air Canada",
           "HND",
           "CDG",
           10,
           "Economy",
           "Tuesday",
           8785,
           150,
           20,
           20
          ],
          [
           "61",
           "2023-05-30T00:00:00",
           "Virgin Atlantic",
           "LAX",
           "HND",
           11,
           "Economy",
           "Friday",
           343,
           110,
           10,
           20
          ],
          [
           "66",
           "2023-10-25T00:00:00",
           "United Airlines",
           "LHR",
           "CDG",
           2.5,
           "Economy",
           "Wednesday",
           341,
           180,
           5,
           15
          ],
          [
           "67",
           "2023-11-30T00:00:00",
           "Air France",
           "PEK",
           "HND",
           5,
           "Economy",
           "Thursday",
           2232,
           130,
           10,
           20
          ],
          [
           "69",
           "2022-02-15T00:00:00",
           "ANA - All Nippon Airways",
           "JFK",
           "HND",
           9,
           "Economy",
           "Saturday",
           5546,
           140,
           20,
           20
          ],
          [
           "72",
           "2022-05-30T00:00:00",
           "Qantas",
           "LHR",
           "HND",
           7.5,
           "Economy",
           "Tuesday",
           9550,
           120,
           15,
           20
          ],
          [
           "76",
           "2022-09-20T00:00:00",
           "Alaska Airlines",
           "PEK",
           "HND",
           5.5,
           "Economy",
           "Saturday",
           5546,
           140,
           20,
           20
          ],
          [
           "79",
           "2023-02-15T00:00:00",
           "Air Canada",
           "HND",
           "CDG",
           10,
           "Economy",
           "Tuesday",
           8785,
           150,
           20,
           20
          ],
          [
           "82",
           "2023-05-30T00:00:00",
           "Virgin Atlantic",
           "LAX",
           "HND",
           11,
           "Economy",
           "Friday",
           343,
           110,
           10,
           20
          ],
          [
           "87",
           "2023-10-25T00:00:00",
           "United Airlines",
           "LHR",
           "CDG",
           2.5,
           "Economy",
           "Wednesday",
           341,
           180,
           5,
           15
          ],
          [
           "88",
           "2023-11-30T00:00:00",
           "Air France",
           "PEK",
           "HND",
           5,
           "Economy",
           "Thursday",
           2232,
           130,
           10,
           20
          ],
          [
           "90",
           "2023-02-15T00:00:00",
           "ANA - All Nippon Airways",
           "JFK",
           "HND",
           9,
           "Economy",
           "Saturday",
           5546,
           140,
           20,
           20
          ],
          [
           "93",
           "2023-05-30T00:00:00",
           "Qantas",
           "LHR",
           "HND",
           7.5,
           "Economy",
           "Tuesday",
           9550,
           120,
           15,
           20
          ],
          [
           "97",
           "2023-09-20T00:00:00",
           "Alaska Airlines",
           "PEK",
           "HND",
           5.5,
           "Economy",
           "Saturday",
           5546,
           140,
           20,
           20
          ],
          [
           "100",
           "2023-02-15T00:00:00",
           "Air Canada",
           "HND",
           "CDG",
           10,
           "Economy",
           "Tuesday",
           8785,
           150,
           20,
           20
          ],
          [
           "103",
           "2023-05-30T00:00:00",
           "Virgin Atlantic",
           "LAX",
           "HND",
           11,
           "Economy",
           "Friday",
           343,
           110,
           10,
           20
          ],
          [
           "108",
           "2023-10-25T00:00:00",
           "United Airlines",
           "LHR",
           "CDG",
           2.5,
           "Economy",
           "Wednesday",
           341,
           180,
           5,
           15
          ],
          [
           "109",
           "2023-11-30T00:00:00",
           "Air France",
           "PEK",
           "HND",
           5,
           "Economy",
           "Thursday",
           2232,
           130,
           10,
           20
          ],
          [
           "111",
           "2023-02-15T00:00:00",
           "ANA - All Nippon Airways",
           "JFK",
           "HND",
           9,
           "Economy",
           "Saturday",
           5546,
           140,
           20,
           20
          ],
          [
           "114",
           "2023-05-30T00:00:00",
           "Qantas",
           "LHR",
           "HND",
           7.5,
           "Economy",
           "Tuesday",
           9550,
           120,
           15,
           20
          ],
          [
           "118",
           "2023-09-20T00:00:00",
           "Alaska Airlines",
           "PEK",
           "HND",
           5.5,
           "Economy",
           "Saturday",
           5546,
           140,
           20,
           20
          ],
          [
           "121",
           "2023-02-15T00:00:00",
           "Air Canada",
           "HND",
           "CDG",
           10,
           "Economy",
           "Tuesday",
           8785,
           150,
           20,
           20
          ],
          [
           "124",
           "2023-05-30T00:00:00",
           "Virgin Atlantic",
           "LAX",
           "HND",
           11,
           "Economy",
           "Friday",
           343,
           110,
           10,
           20
          ],
          [
           "129",
           "2023-10-25T00:00:00",
           "United Airlines",
           "LHR",
           "CDG",
           2.5,
           "Economy",
           "Wednesday",
           341,
           180,
           5,
           15
          ],
          [
           "130",
           "2023-11-30T00:00:00",
           "Air France",
           "PEK",
           "HND",
           5,
           "Economy",
           "Thursday",
           2232,
           130,
           10,
           20
          ],
          [
           "132",
           "2023-02-15T00:00:00",
           "ANA - All Nippon Airways",
           "JFK",
           "HND",
           9,
           "Economy",
           "Saturday",
           5546,
           140,
           20,
           20
          ],
          [
           "135",
           "2023-05-30T00:00:00",
           "Qantas",
           "LHR",
           "HND",
           7.5,
           "Economy",
           "Tuesday",
           9550,
           120,
           15,
           20
          ],
          [
           "139",
           "2023-09-20T00:00:00",
           "Alaska Airlines",
           "PEK",
           "HND",
           5.5,
           "Economy",
           "Saturday",
           5546,
           140,
           20,
           20
          ],
          [
           "142",
           "2023-02-15T00:00:00",
           "Air Canada",
           "HND",
           "CDG",
           10,
           "Economy",
           "Tuesday",
           8785,
           150,
           20,
           20
          ]
         ],
         "hovertemplate": "CABIN TYPE=%{x}<br>PRICE=%{y}<br>FLIGHT ID=%{customdata[0]}<br>DATE=%{customdata[1]}<br>AIRLINE=%{customdata[2]}<br>SOURCE AIRPORT=%{customdata[3]}<br>DESTINATION AIRPORT=%{customdata[4]}<br>DURATION HOURS=%{customdata[5]}<br>SEAT PLACE=%{customdata[6]}<br>DAY OF WEEK=%{customdata[7]}<br>DISTANCE KM=%{customdata[8]}<br>THE NUMBER OF PASSENGERS=%{customdata[9]}<br>DELAY MINUTES=%{customdata[10]}<br>BAGGAGE FEE=%{customdata[11]}<extra></extra>",
         "legendgroup": "Economy",
         "marker": {
          "color": "#EF553B"
         },
         "name": "Economy",
         "offsetgroup": "Economy",
         "orientation": "v",
         "points": "all",
         "scalegroup": "True",
         "showlegend": true,
         "type": "violin",
         "x": [
          "Economy",
          "Economy",
          "Economy",
          "Economy",
          "Economy",
          "Economy",
          "Economy",
          "Economy",
          "Economy",
          "Economy",
          "Economy",
          "Economy",
          "Economy",
          "Economy",
          "Economy",
          "Economy",
          "Economy",
          "Economy",
          "Economy",
          "Economy",
          "Economy",
          "Economy",
          "Economy",
          "Economy",
          "Economy",
          "Economy",
          "Economy",
          "Economy",
          "Economy",
          "Economy",
          "Economy",
          "Economy",
          "Economy",
          "Economy",
          "Economy",
          "Economy",
          "Economy",
          "Economy",
          "Economy",
          "Economy",
          "Economy",
          "Economy",
          "Economy",
          "Economy",
          "Economy",
          "Economy",
          "Economy"
         ],
         "x0": " ",
         "xaxis": "x",
         "y": [
          800,
          600,
          1000,
          750,
          700,
          850,
          700,
          1200,
          400,
          750,
          450,
          850,
          1000,
          400,
          400,
          900,
          750,
          450,
          850,
          1000,
          400,
          400,
          900,
          750,
          450,
          850,
          1000,
          400,
          400,
          900,
          750,
          450,
          850,
          1000,
          400,
          400,
          900,
          750,
          450,
          850,
          1000,
          400,
          400,
          900,
          750,
          450,
          850
         ],
         "y0": " ",
         "yaxis": "y"
        },
        {
         "alignmentgroup": "True",
         "box": {
          "visible": true
         },
         "customdata": [
          [
           "3",
           "2019-03-20T00:00:00",
           "United Airlines",
           "LHR",
           " HND",
           12,
           "First Class",
           "Wednesday",
           9582,
           180,
           30,
           35
          ],
          [
           "7",
           "2019-07-10T00:00:00",
           "British Airways",
           "LHR",
           "LAX",
           5,
           "First Class",
           "Sunday",
           5456,
           160,
           10,
           35
          ],
          [
           "10",
           "2019-10-25T00:00:00",
           "Emirates",
           "LHR",
           "HND",
           6.5,
           "First Class",
           "Wednesday",
           9582,
           150,
           25,
           30
          ],
          [
           "14",
           "2020-02-15T00:00:00",
           "Qatar Airways",
           "LHR",
           "LAX",
           10,
           "First Class",
           "Sunday",
           5456,
           140,
           25,
           30
          ],
          [
           "17",
           "2020-05-30T00:00:00",
           "EVA Air",
           "LHR",
           "HND",
           9,
           "First Class",
           "Wednesday",
           9550,
           160,
           30,
           30
          ],
          [
           "20",
           "2020-08-15T00:00:00",
           "Qantas",
           "LAX",
           "JFK",
           8,
           "First Class",
           "Saturday",
           6835,
           130,
           15,
           30
          ],
          [
           "21",
           "2020-09-20T00:00:00",
           "Turkish_Airlines",
           "LHR",
           "LAX",
           10.5,
           "Business",
           "Sunday",
           8785,
           150,
           20,
           35
          ],
          [
           "22",
           "2021-10-25T00:00:00",
           "Delta Air Lines",
           "HND",
           "LAX",
           8.5,
           "Business",
           "Monday",
           9550,
           150,
           20,
           35
          ],
          [
           "28",
           "2022-04-25T00:00:00",
           "British Airways",
           "HND",
           "CDG",
           2,
           "First Class",
           "Sunday",
           343,
           160,
           5,
           35
          ],
          [
           "31",
           "2022-07-10T00:00:00",
           "Emirates",
           "LAX",
           "LHR",
           11.5,
           "First Class",
           "Wednesday",
           8785,
           150,
           25,
           30
          ],
          [
           "33",
           "2022-09-20T00:00:00",
           "Southwest Airlines",
           "CDG",
           "LHR",
           4,
           "Business",
           "Friday",
           2232,
           130,
           10,
           35
          ],
          [
           "35",
           "2022-11-30T00:00:00",
           "Qatar Airways",
           "LAX",
           "LHR",
           9,
           "First Class",
           "Sunday",
           343,
           160,
           25,
           30
          ],
          [
           "38",
           "2023-03-20T00:00:00",
           "EVA Air",
           "CDG",
           "LHR",
           6.5,
           "First Class",
           "Wednesday",
           2232,
           160,
           30,
           30
          ],
          [
           "41",
           "2023-06-05T00:00:00",
           "Qantas",
           "LHR",
           "CDG",
           7.5,
           "First Class",
           "Saturday",
           5546,
           130,
           15,
           30
          ],
          [
           "42",
           "2023-07-10T00:00:00",
           "Turkish Airlines",
           "JFK",
           "LAX",
           12.5,
           "Business",
           "Sunday",
           8785,
           150,
           20,
           35
          ],
          [
           "44",
           "2023-09-20T00:00:00",
           "American Airlines",
           "CDG",
           "PEK",
           9,
           "First Class",
           "Tuesday",
           7916,
           120,
           30,
           35
          ],
          [
           "49",
           "2023-03-20T00:00:00",
           "British Airways",
           "HND",
           "CDG",
           2,
           "First Class",
           "Sunday",
           343,
           160,
           5,
           35
          ],
          [
           "52",
           "2023-06-05T00:00:00",
           "Emirates",
           "LAX",
           "LHR",
           11.5,
           "First Class",
           "Wednesday",
           8785,
           150,
           25,
           30
          ],
          [
           "54",
           "2023-08-15T00:00:00",
           "Southwest Airlines",
           "CDG",
           "LHR",
           4,
           "Business",
           "Friday",
           2232,
           130,
           10,
           35
          ],
          [
           "59",
           "2023-03-20T00:00:00",
           "EVA Air",
           "CDG",
           "LHR",
           6.5,
           "First Class",
           "Wednesday",
           2232,
           160,
           30,
           30
          ],
          [
           "62",
           "2023-06-05T00:00:00",
           "Qantas",
           "LHR",
           "CDG",
           7.5,
           "First Class",
           "Saturday",
           5546,
           130,
           15,
           30
          ],
          [
           "63",
           "2023-07-10T00:00:00",
           "Turkish Airlines",
           "JFK",
           "LAX",
           12.5,
           "Business",
           "Sunday",
           8785,
           150,
           20,
           35
          ],
          [
           "65",
           "2023-09-20T00:00:00",
           "American Airlines",
           "CDG",
           "PEK",
           9,
           "First Class",
           "Tuesday",
           7916,
           120,
           30,
           35
          ],
          [
           "70",
           "2022-03-20T00:00:00",
           "British Airways",
           "HND",
           "CDG",
           2,
           "First Class",
           "Sunday",
           343,
           160,
           5,
           35
          ],
          [
           "73",
           "2022-06-05T00:00:00",
           "Emirates",
           "LAX",
           "LHR",
           11.5,
           "First Class",
           "Wednesday",
           8785,
           150,
           25,
           30
          ],
          [
           "75",
           "2022-08-15T00:00:00",
           "Southwest Airlines",
           "CDG",
           "LHR",
           4,
           "Business",
           "Friday",
           2232,
           130,
           10,
           35
          ],
          [
           "77",
           "2022-10-25T00:00:00",
           "Qatar Airways",
           "LAX",
           "LHR",
           9,
           "First Class",
           "Sunday",
           343,
           160,
           25,
           30
          ],
          [
           "80",
           "2023-03-20T00:00:00",
           "EVA Air",
           "CDG",
           "LHR",
           6.5,
           "First Class",
           "Wednesday",
           2232,
           160,
           30,
           30
          ],
          [
           "83",
           "2023-06-05T00:00:00",
           "Qantas",
           "LHR",
           "CDG",
           7.5,
           "First Class",
           "Saturday",
           5546,
           130,
           15,
           30
          ],
          [
           "84",
           "2023-07-10T00:00:00",
           "Turkish Airlines",
           "JFK",
           "LAX",
           12.5,
           "Business",
           "Sunday",
           8785,
           150,
           20,
           35
          ],
          [
           "86",
           "2023-09-20T00:00:00",
           "American Airlines",
           "CDG",
           "PEK",
           9,
           "First Class",
           "Tuesday",
           7916,
           120,
           30,
           35
          ],
          [
           "91",
           "2023-03-20T00:00:00",
           "British Airways",
           "HND",
           "CDG",
           2,
           "First Class",
           "Sunday",
           343,
           160,
           5,
           35
          ],
          [
           "94",
           "2023-06-05T00:00:00",
           "Emirates",
           "LAX",
           "LHR",
           11.5,
           "First Class",
           "Wednesday",
           8785,
           150,
           25,
           30
          ],
          [
           "96",
           "2023-08-15T00:00:00",
           "Southwest Airlines",
           "CDG",
           "LHR",
           4,
           "Business",
           "Friday",
           2232,
           130,
           10,
           35
          ],
          [
           "98",
           "2023-10-25T00:00:00",
           "Qatar Airways",
           "LAX",
           "LHR",
           9,
           "First Class",
           "Sunday",
           343,
           160,
           25,
           30
          ],
          [
           "101",
           "2023-03-20T00:00:00",
           "EVA Air",
           "CDG",
           "LHR",
           6.5,
           "First Class",
           "Wednesday",
           2232,
           160,
           30,
           30
          ],
          [
           "104",
           "2023-06-05T00:00:00",
           "Qantas",
           "LHR",
           "CDG",
           7.5,
           "First Class",
           "Saturday",
           5546,
           130,
           15,
           30
          ],
          [
           "105",
           "2023-07-10T00:00:00",
           "Turkish Airlines",
           "JFK",
           "LAX",
           12.5,
           "Business",
           "Sunday",
           8785,
           150,
           20,
           35
          ],
          [
           "107",
           "2023-09-20T00:00:00",
           "American Airlines",
           "CDG",
           "PEK",
           9,
           "First Class",
           "Tuesday",
           7916,
           120,
           30,
           35
          ],
          [
           "112",
           "2023-03-20T00:00:00",
           "British Airways",
           "HND",
           "CDG",
           2,
           "First Class",
           "Sunday",
           343,
           160,
           5,
           35
          ],
          [
           "115",
           "2023-06-05T00:00:00",
           "Emirates",
           "LAX",
           "LHR",
           11.5,
           "First Class",
           "Wednesday",
           8785,
           150,
           25,
           30
          ],
          [
           "117",
           "2023-08-15T00:00:00",
           "Southwest Airlines",
           "CDG",
           "LHR",
           4,
           "Business",
           "Friday",
           2232,
           130,
           10,
           35
          ],
          [
           "119",
           "2023-10-25T00:00:00",
           "Qatar Airways",
           "LAX",
           "LHR",
           9,
           "First Class",
           "Sunday",
           343,
           160,
           25,
           30
          ],
          [
           "122",
           "2023-03-20T00:00:00",
           "EVA Air",
           "CDG",
           "LHR",
           6.5,
           "First Class",
           "Wednesday",
           2232,
           160,
           30,
           30
          ],
          [
           "125",
           "2023-06-05T00:00:00",
           "Qantas",
           "LHR",
           "CDG",
           7.5,
           "First Class",
           "Saturday",
           5546,
           130,
           15,
           30
          ],
          [
           "126",
           "2023-07-10T00:00:00",
           "Turkish Airlines",
           "JFK",
           "LAX",
           12.5,
           "Business",
           "Sunday",
           8785,
           150,
           20,
           35
          ],
          [
           "128",
           "2023-09-20T00:00:00",
           "American Airlines",
           "CDG",
           "PEK",
           9,
           "First Class",
           "Tuesday",
           7916,
           120,
           30,
           35
          ],
          [
           "133",
           "2023-03-20T00:00:00",
           "British Airways",
           "HND",
           "CDG",
           2,
           "First Class",
           "Sunday",
           343,
           160,
           5,
           35
          ],
          [
           "138",
           "2023-08-15T00:00:00",
           "Southwest Airlines",
           "CDG",
           "LHR",
           4,
           "Business",
           "Friday",
           2232,
           130,
           10,
           35
          ],
          [
           "140",
           "2023-10-25T00:00:00",
           "Qatar Airways",
           "LAX",
           "LHR",
           9,
           "First Class",
           "Sunday",
           343,
           160,
           25,
           30
          ],
          [
           "143",
           "2023-03-20T00:00:00",
           "EVA Air",
           "CDG",
           "LHR",
           6.5,
           "First Class",
           "Wednesday",
           2232,
           160,
           30,
           30
          ]
         ],
         "hovertemplate": "CABIN TYPE=%{x}<br>PRICE=%{y}<br>FLIGHT ID=%{customdata[0]}<br>DATE=%{customdata[1]}<br>AIRLINE=%{customdata[2]}<br>SOURCE AIRPORT=%{customdata[3]}<br>DESTINATION AIRPORT=%{customdata[4]}<br>DURATION HOURS=%{customdata[5]}<br>SEAT PLACE=%{customdata[6]}<br>DAY OF WEEK=%{customdata[7]}<br>DISTANCE KM=%{customdata[8]}<br>THE NUMBER OF PASSENGERS=%{customdata[9]}<br>DELAY MINUTES=%{customdata[10]}<br>BAGGAGE FEE=%{customdata[11]}<extra></extra>",
         "legendgroup": "Luxury",
         "marker": {
          "color": "#00cc96"
         },
         "name": "Luxury",
         "offsetgroup": "Luxury",
         "orientation": "v",
         "points": "all",
         "scalegroup": "True",
         "showlegend": true,
         "type": "violin",
         "x": [
          "Luxury",
          "Luxury",
          "Luxury",
          "Luxury",
          "Luxury",
          "Luxury",
          "Luxury",
          "Luxury",
          "Luxury",
          "Luxury",
          "Luxury",
          "Luxury",
          "Luxury",
          "Luxury",
          "Luxury",
          "Luxury",
          "Luxury",
          "Luxury",
          "Luxury",
          "Luxury",
          "Luxury",
          "Luxury",
          "Luxury",
          "Luxury",
          "Luxury",
          "Luxury",
          "Luxury",
          "Luxury",
          "Luxury",
          "Luxury",
          "Luxury",
          "Luxury",
          "Luxury",
          "Luxury",
          "Luxury",
          "Luxury",
          "Luxury",
          "Luxury",
          "Luxury",
          "Luxury",
          "Luxury",
          "Luxury",
          "Luxury",
          "Luxury",
          "Luxury",
          "Luxury",
          "Luxury",
          "Luxury",
          "Luxury",
          "Luxury",
          "Luxury"
         ],
         "x0": " ",
         "xaxis": "x",
         "y": [
          2500,
          1800,
          2800,
          2500,
          2000,
          2300,
          1400,
          1400,
          800,
          2800,
          500,
          2200,
          1800,
          2000,
          2200,
          2500,
          800,
          2800,
          500,
          1800,
          2000,
          2200,
          2500,
          800,
          2800,
          500,
          2200,
          1800,
          2000,
          2200,
          2500,
          800,
          2800,
          500,
          2200,
          1800,
          2000,
          2200,
          2500,
          800,
          2800,
          500,
          2200,
          1800,
          2000,
          2200,
          2500,
          800,
          500,
          2200,
          1800
         ],
         "y0": " ",
         "yaxis": "y"
        }
       ],
       "layout": {
        "legend": {
         "title": {
          "text": "CABIN TYPE"
         },
         "tracegroupgap": 0
        },
        "margin": {
         "t": 60
        },
        "template": {
         "data": {
          "bar": [
           {
            "error_x": {
             "color": "#2a3f5f"
            },
            "error_y": {
             "color": "#2a3f5f"
            },
            "marker": {
             "line": {
              "color": "#E5ECF6",
              "width": 0.5
             },
             "pattern": {
              "fillmode": "overlay",
              "size": 10,
              "solidity": 0.2
             }
            },
            "type": "bar"
           }
          ],
          "barpolar": [
           {
            "marker": {
             "line": {
              "color": "#E5ECF6",
              "width": 0.5
             },
             "pattern": {
              "fillmode": "overlay",
              "size": 10,
              "solidity": 0.2
             }
            },
            "type": "barpolar"
           }
          ],
          "carpet": [
           {
            "aaxis": {
             "endlinecolor": "#2a3f5f",
             "gridcolor": "white",
             "linecolor": "white",
             "minorgridcolor": "white",
             "startlinecolor": "#2a3f5f"
            },
            "baxis": {
             "endlinecolor": "#2a3f5f",
             "gridcolor": "white",
             "linecolor": "white",
             "minorgridcolor": "white",
             "startlinecolor": "#2a3f5f"
            },
            "type": "carpet"
           }
          ],
          "choropleth": [
           {
            "colorbar": {
             "outlinewidth": 0,
             "ticks": ""
            },
            "type": "choropleth"
           }
          ],
          "contour": [
           {
            "colorbar": {
             "outlinewidth": 0,
             "ticks": ""
            },
            "colorscale": [
             [
              0,
              "#0d0887"
             ],
             [
              0.1111111111111111,
              "#46039f"
             ],
             [
              0.2222222222222222,
              "#7201a8"
             ],
             [
              0.3333333333333333,
              "#9c179e"
             ],
             [
              0.4444444444444444,
              "#bd3786"
             ],
             [
              0.5555555555555556,
              "#d8576b"
             ],
             [
              0.6666666666666666,
              "#ed7953"
             ],
             [
              0.7777777777777778,
              "#fb9f3a"
             ],
             [
              0.8888888888888888,
              "#fdca26"
             ],
             [
              1,
              "#f0f921"
             ]
            ],
            "type": "contour"
           }
          ],
          "contourcarpet": [
           {
            "colorbar": {
             "outlinewidth": 0,
             "ticks": ""
            },
            "type": "contourcarpet"
           }
          ],
          "heatmap": [
           {
            "colorbar": {
             "outlinewidth": 0,
             "ticks": ""
            },
            "colorscale": [
             [
              0,
              "#0d0887"
             ],
             [
              0.1111111111111111,
              "#46039f"
             ],
             [
              0.2222222222222222,
              "#7201a8"
             ],
             [
              0.3333333333333333,
              "#9c179e"
             ],
             [
              0.4444444444444444,
              "#bd3786"
             ],
             [
              0.5555555555555556,
              "#d8576b"
             ],
             [
              0.6666666666666666,
              "#ed7953"
             ],
             [
              0.7777777777777778,
              "#fb9f3a"
             ],
             [
              0.8888888888888888,
              "#fdca26"
             ],
             [
              1,
              "#f0f921"
             ]
            ],
            "type": "heatmap"
           }
          ],
          "heatmapgl": [
           {
            "colorbar": {
             "outlinewidth": 0,
             "ticks": ""
            },
            "colorscale": [
             [
              0,
              "#0d0887"
             ],
             [
              0.1111111111111111,
              "#46039f"
             ],
             [
              0.2222222222222222,
              "#7201a8"
             ],
             [
              0.3333333333333333,
              "#9c179e"
             ],
             [
              0.4444444444444444,
              "#bd3786"
             ],
             [
              0.5555555555555556,
              "#d8576b"
             ],
             [
              0.6666666666666666,
              "#ed7953"
             ],
             [
              0.7777777777777778,
              "#fb9f3a"
             ],
             [
              0.8888888888888888,
              "#fdca26"
             ],
             [
              1,
              "#f0f921"
             ]
            ],
            "type": "heatmapgl"
           }
          ],
          "histogram": [
           {
            "marker": {
             "pattern": {
              "fillmode": "overlay",
              "size": 10,
              "solidity": 0.2
             }
            },
            "type": "histogram"
           }
          ],
          "histogram2d": [
           {
            "colorbar": {
             "outlinewidth": 0,
             "ticks": ""
            },
            "colorscale": [
             [
              0,
              "#0d0887"
             ],
             [
              0.1111111111111111,
              "#46039f"
             ],
             [
              0.2222222222222222,
              "#7201a8"
             ],
             [
              0.3333333333333333,
              "#9c179e"
             ],
             [
              0.4444444444444444,
              "#bd3786"
             ],
             [
              0.5555555555555556,
              "#d8576b"
             ],
             [
              0.6666666666666666,
              "#ed7953"
             ],
             [
              0.7777777777777778,
              "#fb9f3a"
             ],
             [
              0.8888888888888888,
              "#fdca26"
             ],
             [
              1,
              "#f0f921"
             ]
            ],
            "type": "histogram2d"
           }
          ],
          "histogram2dcontour": [
           {
            "colorbar": {
             "outlinewidth": 0,
             "ticks": ""
            },
            "colorscale": [
             [
              0,
              "#0d0887"
             ],
             [
              0.1111111111111111,
              "#46039f"
             ],
             [
              0.2222222222222222,
              "#7201a8"
             ],
             [
              0.3333333333333333,
              "#9c179e"
             ],
             [
              0.4444444444444444,
              "#bd3786"
             ],
             [
              0.5555555555555556,
              "#d8576b"
             ],
             [
              0.6666666666666666,
              "#ed7953"
             ],
             [
              0.7777777777777778,
              "#fb9f3a"
             ],
             [
              0.8888888888888888,
              "#fdca26"
             ],
             [
              1,
              "#f0f921"
             ]
            ],
            "type": "histogram2dcontour"
           }
          ],
          "mesh3d": [
           {
            "colorbar": {
             "outlinewidth": 0,
             "ticks": ""
            },
            "type": "mesh3d"
           }
          ],
          "parcoords": [
           {
            "line": {
             "colorbar": {
              "outlinewidth": 0,
              "ticks": ""
             }
            },
            "type": "parcoords"
           }
          ],
          "pie": [
           {
            "automargin": true,
            "type": "pie"
           }
          ],
          "scatter": [
           {
            "fillpattern": {
             "fillmode": "overlay",
             "size": 10,
             "solidity": 0.2
            },
            "type": "scatter"
           }
          ],
          "scatter3d": [
           {
            "line": {
             "colorbar": {
              "outlinewidth": 0,
              "ticks": ""
             }
            },
            "marker": {
             "colorbar": {
              "outlinewidth": 0,
              "ticks": ""
             }
            },
            "type": "scatter3d"
           }
          ],
          "scattercarpet": [
           {
            "marker": {
             "colorbar": {
              "outlinewidth": 0,
              "ticks": ""
             }
            },
            "type": "scattercarpet"
           }
          ],
          "scattergeo": [
           {
            "marker": {
             "colorbar": {
              "outlinewidth": 0,
              "ticks": ""
             }
            },
            "type": "scattergeo"
           }
          ],
          "scattergl": [
           {
            "marker": {
             "colorbar": {
              "outlinewidth": 0,
              "ticks": ""
             }
            },
            "type": "scattergl"
           }
          ],
          "scattermapbox": [
           {
            "marker": {
             "colorbar": {
              "outlinewidth": 0,
              "ticks": ""
             }
            },
            "type": "scattermapbox"
           }
          ],
          "scatterpolar": [
           {
            "marker": {
             "colorbar": {
              "outlinewidth": 0,
              "ticks": ""
             }
            },
            "type": "scatterpolar"
           }
          ],
          "scatterpolargl": [
           {
            "marker": {
             "colorbar": {
              "outlinewidth": 0,
              "ticks": ""
             }
            },
            "type": "scatterpolargl"
           }
          ],
          "scatterternary": [
           {
            "marker": {
             "colorbar": {
              "outlinewidth": 0,
              "ticks": ""
             }
            },
            "type": "scatterternary"
           }
          ],
          "surface": [
           {
            "colorbar": {
             "outlinewidth": 0,
             "ticks": ""
            },
            "colorscale": [
             [
              0,
              "#0d0887"
             ],
             [
              0.1111111111111111,
              "#46039f"
             ],
             [
              0.2222222222222222,
              "#7201a8"
             ],
             [
              0.3333333333333333,
              "#9c179e"
             ],
             [
              0.4444444444444444,
              "#bd3786"
             ],
             [
              0.5555555555555556,
              "#d8576b"
             ],
             [
              0.6666666666666666,
              "#ed7953"
             ],
             [
              0.7777777777777778,
              "#fb9f3a"
             ],
             [
              0.8888888888888888,
              "#fdca26"
             ],
             [
              1,
              "#f0f921"
             ]
            ],
            "type": "surface"
           }
          ],
          "table": [
           {
            "cells": {
             "fill": {
              "color": "#EBF0F8"
             },
             "line": {
              "color": "white"
             }
            },
            "header": {
             "fill": {
              "color": "#C8D4E3"
             },
             "line": {
              "color": "white"
             }
            },
            "type": "table"
           }
          ]
         },
         "layout": {
          "annotationdefaults": {
           "arrowcolor": "#2a3f5f",
           "arrowhead": 0,
           "arrowwidth": 1
          },
          "autotypenumbers": "strict",
          "coloraxis": {
           "colorbar": {
            "outlinewidth": 0,
            "ticks": ""
           }
          },
          "colorscale": {
           "diverging": [
            [
             0,
             "#8e0152"
            ],
            [
             0.1,
             "#c51b7d"
            ],
            [
             0.2,
             "#de77ae"
            ],
            [
             0.3,
             "#f1b6da"
            ],
            [
             0.4,
             "#fde0ef"
            ],
            [
             0.5,
             "#f7f7f7"
            ],
            [
             0.6,
             "#e6f5d0"
            ],
            [
             0.7,
             "#b8e186"
            ],
            [
             0.8,
             "#7fbc41"
            ],
            [
             0.9,
             "#4d9221"
            ],
            [
             1,
             "#276419"
            ]
           ],
           "sequential": [
            [
             0,
             "#0d0887"
            ],
            [
             0.1111111111111111,
             "#46039f"
            ],
            [
             0.2222222222222222,
             "#7201a8"
            ],
            [
             0.3333333333333333,
             "#9c179e"
            ],
            [
             0.4444444444444444,
             "#bd3786"
            ],
            [
             0.5555555555555556,
             "#d8576b"
            ],
            [
             0.6666666666666666,
             "#ed7953"
            ],
            [
             0.7777777777777778,
             "#fb9f3a"
            ],
            [
             0.8888888888888888,
             "#fdca26"
            ],
            [
             1,
             "#f0f921"
            ]
           ],
           "sequentialminus": [
            [
             0,
             "#0d0887"
            ],
            [
             0.1111111111111111,
             "#46039f"
            ],
            [
             0.2222222222222222,
             "#7201a8"
            ],
            [
             0.3333333333333333,
             "#9c179e"
            ],
            [
             0.4444444444444444,
             "#bd3786"
            ],
            [
             0.5555555555555556,
             "#d8576b"
            ],
            [
             0.6666666666666666,
             "#ed7953"
            ],
            [
             0.7777777777777778,
             "#fb9f3a"
            ],
            [
             0.8888888888888888,
             "#fdca26"
            ],
            [
             1,
             "#f0f921"
            ]
           ]
          },
          "colorway": [
           "#636efa",
           "#EF553B",
           "#00cc96",
           "#ab63fa",
           "#FFA15A",
           "#19d3f3",
           "#FF6692",
           "#B6E880",
           "#FF97FF",
           "#FECB52"
          ],
          "font": {
           "color": "#2a3f5f"
          },
          "geo": {
           "bgcolor": "white",
           "lakecolor": "white",
           "landcolor": "#E5ECF6",
           "showlakes": true,
           "showland": true,
           "subunitcolor": "white"
          },
          "hoverlabel": {
           "align": "left"
          },
          "hovermode": "closest",
          "mapbox": {
           "style": "light"
          },
          "paper_bgcolor": "white",
          "plot_bgcolor": "#E5ECF6",
          "polar": {
           "angularaxis": {
            "gridcolor": "white",
            "linecolor": "white",
            "ticks": ""
           },
           "bgcolor": "#E5ECF6",
           "radialaxis": {
            "gridcolor": "white",
            "linecolor": "white",
            "ticks": ""
           }
          },
          "scene": {
           "xaxis": {
            "backgroundcolor": "#E5ECF6",
            "gridcolor": "white",
            "gridwidth": 2,
            "linecolor": "white",
            "showbackground": true,
            "ticks": "",
            "zerolinecolor": "white"
           },
           "yaxis": {
            "backgroundcolor": "#E5ECF6",
            "gridcolor": "white",
            "gridwidth": 2,
            "linecolor": "white",
            "showbackground": true,
            "ticks": "",
            "zerolinecolor": "white"
           },
           "zaxis": {
            "backgroundcolor": "#E5ECF6",
            "gridcolor": "white",
            "gridwidth": 2,
            "linecolor": "white",
            "showbackground": true,
            "ticks": "",
            "zerolinecolor": "white"
           }
          },
          "shapedefaults": {
           "line": {
            "color": "#2a3f5f"
           }
          },
          "ternary": {
           "aaxis": {
            "gridcolor": "white",
            "linecolor": "white",
            "ticks": ""
           },
           "baxis": {
            "gridcolor": "white",
            "linecolor": "white",
            "ticks": ""
           },
           "bgcolor": "#E5ECF6",
           "caxis": {
            "gridcolor": "white",
            "linecolor": "white",
            "ticks": ""
           }
          },
          "title": {
           "x": 0.05
          },
          "xaxis": {
           "automargin": true,
           "gridcolor": "white",
           "linecolor": "white",
           "ticks": "",
           "title": {
            "standoff": 15
           },
           "zerolinecolor": "white",
           "zerolinewidth": 2
          },
          "yaxis": {
           "automargin": true,
           "gridcolor": "white",
           "linecolor": "white",
           "ticks": "",
           "title": {
            "standoff": 15
           },
           "zerolinecolor": "white",
           "zerolinewidth": 2
          }
         }
        },
        "title": {
         "text": "Violin Plot of Prices for Each Cabin Type",
         "x": 0.5
        },
        "violinmode": "overlay",
        "xaxis": {
         "anchor": "y",
         "categoryarray": [
          "Standard",
          "Economy",
          "Luxury"
         ],
         "categoryorder": "array",
         "domain": [
          0,
          1
         ],
         "title": {
          "text": "CABIN TYPE"
         }
        },
        "yaxis": {
         "anchor": "x",
         "domain": [
          0,
          1
         ],
         "title": {
          "text": "PRICE"
         }
        }
       }
      }
     },
     "metadata": {},
     "output_type": "display_data"
    }
   ],
   "source": [
    "\n",
    "# Violin plot using Plotly Express\n",
    "fig = px.violin(df, x='CABIN TYPE', y='PRICE', box=True, points='all', color='CABIN TYPE', hover_data=df.columns)\n",
    "\n",
    "# Set the title\n",
    "fig.update_layout(title_text='Violin Plot of Prices for Each Cabin Type', title_x=0.5)\n",
    "\n",
    "# Display the plot\n",
    "fig.show()\n",
    "\n",
    "#### Explanation:\n",
    "#### - The code utilizes Plotly Express (px) to create a violin plot of 'PRICE' for each 'CABIN TYPE'.\n",
    "#### - The 'box=True' parameter adds a box plot inside each violin.\n",
    "#### - 'points='all'' adds individual data points to the plot.\n",
    "#### - 'color='CABIN TYPE'' ensures each violin is colored based on the 'CABIN TYPE'.\n",
    "#### - Hover information includes data from all columns in the DataFrame.\n",
    "#### - The resulting plot is displayed using fig.show().\n"
   ]
  },
  {
   "cell_type": "code",
   "execution_count": 28,
   "metadata": {},
   "outputs": [
    {
     "data": {
      "image/png": "[encoded data removed]",
      "text/plain": [
       "<Figure size 1000x600 with 1 Axes>"
      ]
     },
     "metadata": {},
     "output_type": "display_data"
    }
   ],
   "source": [
    "\n",
    "# Assuming 'DATE' is in string format, convert it to datetime\n",
    "df['DATE'] = pd.to_datetime(df['DATE'])\n",
    "\n",
    "# Extract the year from the 'DATE' column\n",
    "df['Year'] = df['DATE'].dt.year\n",
    "\n",
    "# Find the mean price for each cabin type and year\n",
    "mean_prices = df.groupby(['CABIN TYPE', 'Year'])['PRICE'].mean().reset_index()\n",
    "\n",
    "# Plot the results (you can customize the plot based on your preference)\n",
    "plt.figure(figsize=(10, 6))\n",
    "sns.lineplot(x='Year', y='PRICE', hue='CABIN TYPE', data=mean_prices)\n",
    "plt.title('Line Plot: Mean Price by Cabin Type per Year')\n",
    "plt.show()\n",
    "\n",
    "#### Explanation:\n",
    "#### - The 'pd.to_datetime()' method is applied to convert the 'DATE' column from string to datetime format.\n",
    "#### - The 'dt.year' attribute extracts the year from the 'DATE' column, creating a new 'Year' column in the DataFrame.\n",
    "#### - Using 'groupby', the mean price for each combination of 'CABIN TYPE' and 'Year' is calculated and stored in the 'mean_prices' DataFrame.\n",
    "#### - The line plot depicts the mean price trends over the years for each cabin type using seaborn's lineplot function.\n",
    "#### - Title and axis labels are added for clarity, and the resulting plot is displayed using plt.show().\n"
   ]
  },
  {
   "cell_type": "code",
   "execution_count": 29,
   "metadata": {},
   "outputs": [
    {
     "data": {
      "image/png": "[encoded data removed]",
      "text/plain": [
       "<Figure size 1200x800 with 1 Axes>"
      ]
     },
     "metadata": {},
     "output_type": "display_data"
    }
   ],
   "source": [
    "\n",
    "# Calculate average delay minutes by airline\n",
    "average_delays = df.groupby('AIRLINE')['DELAY MINUTES'].mean().reset_index()\n",
    "\n",
    "# Sort in descending order\n",
    "average_delays = average_delays.sort_values(by='DELAY MINUTES', ascending=False)\n",
    "\n",
    "# Create a bar plot with the reversed rocket color palette\n",
    "plt.figure(figsize=(12, 8))\n",
    "sns.barplot(x='AIRLINE', y='DELAY MINUTES', data=average_delays, palette='rocket_r', hue='DELAY MINUTES', dodge=False)\n",
    "plt.title('Bar Plot: Average Delay Minutes by Airline')\n",
    "plt.xlabel('Airline')\n",
    "plt.ylabel('Average Delay Minutes')\n",
    "plt.xticks(rotation=45, ha='right')\n",
    "\n",
    "# Save the plot to a file\n",
    "plt.savefig('average_delay_minutes_reversed_rocket.png')\n",
    "\n",
    "# Show the plot\n",
    "plt.show()\n",
    "\n",
    "#### Explanation:\n",
    "#### - The code calculates the average delay minutes for each airline and creates a bar plot using seaborn's barplot function.\n",
    "#### - The 'rocket_r' color palette is applied for a reversed visual effect.\n",
    "#### - The 'hue' parameter is used to differentiate bars based on the 'DELAY MINUTES'.\n",
    "#### - The resulting plot is saved as 'average_delay_minutes_reversed_rocket.png' using plt.savefig.\n",
    "#### - The plot is also displayed using plt.show().\n"
   ]
  }
 ],
 "metadata": {
  "kernelspec": {
   "display_name": "Python 3",
   "language": "python",
   "name": "python3"
  },
  "language_info": {
   "codemirror_mode": {
    "name": "ipython",
    "version": 3
   },
   "file_extension": ".py",
   "mimetype": "text/x-python",
   "name": "python",
   "nbconvert_exporter": "python",
   "pygments_lexer": "ipython3",
   "version": "3.12.0"
  }
 },
 "nbformat": 4,
 "nbformat_minor": 2
}
